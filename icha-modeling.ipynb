{
  "cells": [
    {
      "cell_type": "markdown",
      "source": [
        "# 📥 Import Libraries & Dataset"
      ],
      "metadata": {
        "id": "Qjq1aZ_FAwr9"
      }
    },
    {
      "cell_type": "code",
      "execution_count": 248,
      "metadata": {
        "id": "58kzVDlvx240",
        "outputId": "68aadf83-27c0-48fb-da3b-4ec0612e163a",
        "colab": {
          "base_uri": "https://localhost:8080/"
        }
      },
      "outputs": [
        {
          "output_type": "stream",
          "name": "stdout",
          "text": [
            "Requirement already satisfied: pandas in /usr/local/lib/python3.10/dist-packages (2.2.2)\n",
            "Requirement already satisfied: numpy>=1.22.4 in /usr/local/lib/python3.10/dist-packages (from pandas) (1.26.4)\n",
            "Requirement already satisfied: python-dateutil>=2.8.2 in /usr/local/lib/python3.10/dist-packages (from pandas) (2.8.2)\n",
            "Requirement already satisfied: pytz>=2020.1 in /usr/local/lib/python3.10/dist-packages (from pandas) (2024.2)\n",
            "Requirement already satisfied: tzdata>=2022.7 in /usr/local/lib/python3.10/dist-packages (from pandas) (2024.2)\n",
            "Requirement already satisfied: six>=1.5 in /usr/local/lib/python3.10/dist-packages (from python-dateutil>=2.8.2->pandas) (1.17.0)\n",
            "Requirement already satisfied: numpy in /usr/local/lib/python3.10/dist-packages (1.26.4)\n",
            "Requirement already satisfied: scikit-learn==1.5.2 in /usr/local/lib/python3.10/dist-packages (1.5.2)\n",
            "Requirement already satisfied: numpy>=1.19.5 in /usr/local/lib/python3.10/dist-packages (from scikit-learn==1.5.2) (1.26.4)\n",
            "Requirement already satisfied: scipy>=1.6.0 in /usr/local/lib/python3.10/dist-packages (from scikit-learn==1.5.2) (1.13.1)\n",
            "Requirement already satisfied: joblib>=1.2.0 in /usr/local/lib/python3.10/dist-packages (from scikit-learn==1.5.2) (1.4.2)\n",
            "Requirement already satisfied: threadpoolctl>=3.1.0 in /usr/local/lib/python3.10/dist-packages (from scikit-learn==1.5.2) (3.5.0)\n",
            "Requirement already satisfied: xgboost in /usr/local/lib/python3.10/dist-packages (2.1.3)\n",
            "Requirement already satisfied: numpy in /usr/local/lib/python3.10/dist-packages (from xgboost) (1.26.4)\n",
            "Requirement already satisfied: nvidia-nccl-cu12 in /usr/local/lib/python3.10/dist-packages (from xgboost) (2.23.4)\n",
            "Requirement already satisfied: scipy in /usr/local/lib/python3.10/dist-packages (from xgboost) (1.13.1)\n",
            "Requirement already satisfied: catboost in /usr/local/lib/python3.10/dist-packages (1.2.7)\n",
            "Requirement already satisfied: graphviz in /usr/local/lib/python3.10/dist-packages (from catboost) (0.20.3)\n",
            "Requirement already satisfied: matplotlib in /usr/local/lib/python3.10/dist-packages (from catboost) (3.8.0)\n",
            "Requirement already satisfied: numpy<2.0,>=1.16.0 in /usr/local/lib/python3.10/dist-packages (from catboost) (1.26.4)\n",
            "Requirement already satisfied: pandas>=0.24 in /usr/local/lib/python3.10/dist-packages (from catboost) (2.2.2)\n",
            "Requirement already satisfied: scipy in /usr/local/lib/python3.10/dist-packages (from catboost) (1.13.1)\n",
            "Requirement already satisfied: plotly in /usr/local/lib/python3.10/dist-packages (from catboost) (5.24.1)\n",
            "Requirement already satisfied: six in /usr/local/lib/python3.10/dist-packages (from catboost) (1.17.0)\n",
            "Requirement already satisfied: python-dateutil>=2.8.2 in /usr/local/lib/python3.10/dist-packages (from pandas>=0.24->catboost) (2.8.2)\n",
            "Requirement already satisfied: pytz>=2020.1 in /usr/local/lib/python3.10/dist-packages (from pandas>=0.24->catboost) (2024.2)\n",
            "Requirement already satisfied: tzdata>=2022.7 in /usr/local/lib/python3.10/dist-packages (from pandas>=0.24->catboost) (2024.2)\n",
            "Requirement already satisfied: contourpy>=1.0.1 in /usr/local/lib/python3.10/dist-packages (from matplotlib->catboost) (1.3.1)\n",
            "Requirement already satisfied: cycler>=0.10 in /usr/local/lib/python3.10/dist-packages (from matplotlib->catboost) (0.12.1)\n",
            "Requirement already satisfied: fonttools>=4.22.0 in /usr/local/lib/python3.10/dist-packages (from matplotlib->catboost) (4.55.3)\n",
            "Requirement already satisfied: kiwisolver>=1.0.1 in /usr/local/lib/python3.10/dist-packages (from matplotlib->catboost) (1.4.7)\n",
            "Requirement already satisfied: packaging>=20.0 in /usr/local/lib/python3.10/dist-packages (from matplotlib->catboost) (24.2)\n",
            "Requirement already satisfied: pillow>=6.2.0 in /usr/local/lib/python3.10/dist-packages (from matplotlib->catboost) (11.0.0)\n",
            "Requirement already satisfied: pyparsing>=2.3.1 in /usr/local/lib/python3.10/dist-packages (from matplotlib->catboost) (3.2.0)\n",
            "Requirement already satisfied: tenacity>=6.2.0 in /usr/local/lib/python3.10/dist-packages (from plotly->catboost) (9.0.0)\n"
          ]
        }
      ],
      "source": [
        "%pip install pandas\n",
        "%pip install numpy\n",
        "%pip install scikit-learn==1.5.2\n",
        "%pip install xgboost\n",
        "%pip install catboost"
      ]
    },
    {
      "cell_type": "markdown",
      "source": [
        "## 📦 Libraries"
      ],
      "metadata": {
        "id": "PKxCkHULBoQB"
      }
    },
    {
      "cell_type": "code",
      "execution_count": 249,
      "metadata": {
        "id": "TTYQQ1CQx241"
      },
      "outputs": [],
      "source": [
        "import pandas as pd\n",
        "import numpy as np\n",
        "from sklearn.preprocessing import LabelEncoder\n",
        "\n",
        "import xgboost as xgb # type: ignore\n",
        "from sklearn.model_selection import RandomizedSearchCV, train_test_split #type: ignore\n",
        "from sklearn.metrics import mean_absolute_error, mean_squared_error, r2_score #type: ignore\n",
        "from catboost import CatBoostRegressor #type: ignore"
      ]
    },
    {
      "cell_type": "markdown",
      "source": [
        "## 🗃️ Dataset"
      ],
      "metadata": {
        "id": "1g4m5VBIBtRZ"
      }
    },
    {
      "cell_type": "code",
      "execution_count": 250,
      "metadata": {
        "id": "wfUqlt_sx241"
      },
      "outputs": [],
      "source": [
        "# Import dataset\n",
        "\n",
        "url = \"https://drive.google.com/uc?id=1wnDUJCke0araT3A7SAk8ZLTIbV00R3ev\"\n",
        "df = pd.read_csv(url)"
      ]
    },
    {
      "cell_type": "markdown",
      "source": [
        "# 📰 Description"
      ],
      "metadata": {
        "id": "wZk3hk0gA9aK"
      }
    },
    {
      "cell_type": "markdown",
      "source": [
        "## 📍 Shape"
      ],
      "metadata": {
        "id": "uSBAh96hBBhS"
      }
    },
    {
      "cell_type": "code",
      "source": [
        "print(\"Jumlah baris: \", df.shape[0])\n",
        "print(\"Jumlah kolom: \", df.shape[1])"
      ],
      "metadata": {
        "id": "uyGNfiCpBznZ",
        "outputId": "d4d8350b-718d-46e5-87ed-81eff4540a07",
        "colab": {
          "base_uri": "https://localhost:8080/"
        }
      },
      "execution_count": 251,
      "outputs": [
        {
          "output_type": "stream",
          "name": "stdout",
          "text": [
            "Jumlah baris:  8000\n",
            "Jumlah kolom:  21\n"
          ]
        }
      ]
    },
    {
      "cell_type": "markdown",
      "source": [
        "## 📍 Structure"
      ],
      "metadata": {
        "id": "SgH9MymZB4g-"
      }
    },
    {
      "cell_type": "code",
      "execution_count": 252,
      "metadata": {
        "id": "sVlIwaO7x242",
        "outputId": "7d033b4a-4d6e-4d2e-87e2-91443eaafc53",
        "colab": {
          "base_uri": "https://localhost:8080/"
        }
      },
      "outputs": [
        {
          "output_type": "stream",
          "name": "stdout",
          "text": [
            "<class 'pandas.core.frame.DataFrame'>\n",
            "RangeIndex: 8000 entries, 0 to 7999\n",
            "Data columns (total 21 columns):\n",
            " #   Column                 Non-Null Count  Dtype  \n",
            "---  ------                 --------------  -----  \n",
            " 0   ID                     8000 non-null   object \n",
            " 1   VendorID               8000 non-null   float64\n",
            " 2   lpep_pickup_datetime   8000 non-null   object \n",
            " 3   lpep_dropoff_datetime  8000 non-null   object \n",
            " 4   store_and_fwd_flag     8000 non-null   object \n",
            " 5   RatecodeID             8000 non-null   float64\n",
            " 6   PULocationID           8000 non-null   int64  \n",
            " 7   DOLocationID           8000 non-null   int64  \n",
            " 8   passenger_count        8000 non-null   float64\n",
            " 9   trip_distance          8000 non-null   float64\n",
            " 10  fare_amount            8000 non-null   float64\n",
            " 11  extra                  8000 non-null   float64\n",
            " 12  mta_tax                8000 non-null   float64\n",
            " 13  tip_amount             8000 non-null   float64\n",
            " 14  tolls_amount           8000 non-null   float64\n",
            " 15  ehail_fee              0 non-null      float64\n",
            " 16  improvement_surcharge  8000 non-null   float64\n",
            " 17  total_amount           8000 non-null   float64\n",
            " 18  trip_type              8000 non-null   float64\n",
            " 19  congestion_surcharge   8000 non-null   float64\n",
            " 20  payment_type           8000 non-null   float64\n",
            "dtypes: float64(15), int64(2), object(4)\n",
            "memory usage: 1.3+ MB\n"
          ]
        }
      ],
      "source": [
        "df.info()"
      ]
    },
    {
      "cell_type": "markdown",
      "source": [
        "## 📍 Columns"
      ],
      "metadata": {
        "id": "Y7bqgxrXCAJM"
      }
    },
    {
      "cell_type": "code",
      "source": [
        "df.columns"
      ],
      "metadata": {
        "id": "6uzkch-ECA6u",
        "outputId": "125edeba-d715-4ed0-f6f8-8943aae54198",
        "colab": {
          "base_uri": "https://localhost:8080/"
        }
      },
      "execution_count": 253,
      "outputs": [
        {
          "output_type": "execute_result",
          "data": {
            "text/plain": [
              "Index(['ID', 'VendorID', 'lpep_pickup_datetime', 'lpep_dropoff_datetime',\n",
              "       'store_and_fwd_flag', 'RatecodeID', 'PULocationID', 'DOLocationID',\n",
              "       'passenger_count', 'trip_distance', 'fare_amount', 'extra', 'mta_tax',\n",
              "       'tip_amount', 'tolls_amount', 'ehail_fee', 'improvement_surcharge',\n",
              "       'total_amount', 'trip_type', 'congestion_surcharge', 'payment_type'],\n",
              "      dtype='object')"
            ]
          },
          "metadata": {},
          "execution_count": 253
        }
      ]
    },
    {
      "cell_type": "markdown",
      "source": [
        "Berikut ini adalah deskripsi kolom pada dataset:\n",
        "- **VendorID**: Kode yang menunjukkan penyedia TPEP yang menyediakan catatan.\n",
        "  - *1 = Creative Mobile Technologies, LLC*\n",
        "  - *2 = VeriFone Inc*\n",
        "- **lpep_pickup_datetime**: Tanggal dan waktu ketika meteran dinyalakan.\n",
        "- **lpep_dropoff_datetime**: Tanggal dan waktu ketika meteran dimatikan.\n",
        "- **store_and_fwd_flag**: Flag yang menunjukkan apakah catatan perjalanan disimpan dalam memori kendaraan sebelum dikirim ke vendor.\n",
        "  - *Y = perjalanan yang disimpan dan diteruskan*\n",
        "  - *N = perjalanan yang tidak disimpan dan diteruskan*\n",
        "- **RatecodeID**: Kode tarif akhir yang berlaku pada akhir perjalanan.\n",
        "  - *1 = Tarif standar*\n",
        "  - *2 = JFK*\n",
        "  - *3 = Newark*\n",
        "  - *4 = Nassau atau Westchester*\n",
        "  - *5 = Tarif negosiasi*\n",
        "  - *6 = Perjalanan grup*\n",
        "- **PULocationID**: Zona Taksi TLC di mana meteran dinyalakan.\n",
        "- **DOLocationID**: Zona Taksi TLC di mana meteran dimatikan.\n",
        "- **passenger_count**: Jumlah penumpang di kendaraan. Ini adalah nilai yang dimasukkan oleh sopir.\n",
        "- **trip_distance**: Jarak perjalanan yang telah dilalui dalam mil yang dilaporkan oleh meteran.\n",
        "- **fare_amount**: Biaya waktu dan jarak yang dihitung oleh meteran.\n",
        "- **extra**: Biaya tambahan dan surcharge (misalnya, biaya tambahan $0,50 dan $1 untuk jam sibuk dan malam hari).\n",
        "- **mta_tax**: Pajak MTA sebesar 0,50 dolar yang otomatis dikenakan berdasarkan tarif meteran yang digunakan.\n",
        "- **tip_amount**: Jumlah tip field ini otomatis terisi untuk tip kartu kredit. Tip tunai tidak termasuk.\n",
        "- **tolls_amount**: Jumlah total semua tol yang dibayar selama perjalanan.\n",
        "- **improvement_surcharge**: Biaya perbaikan sebesar $0,30 yang dikenakan pada awal perjalanan. Biaya ini mulai diterapkan pada tahun 2015.\n",
        "- **total_amount**: Jumlah total yang dibebankan kepada penumpang (tidak termasuk tip tunai).\n",
        "- **payment_type**: Kode numerik yang menunjukkan bagaimana penumpang membayar perjalanan.\n",
        "  - *1 = Kartu kredit*\n",
        "  - *2 = Tunai*\n",
        "- **trip_type**: Jenis perjalanan.\n",
        "  - *1 = Inner city*\n",
        "  - *2 = Outer city*\n",
        "- **congestion_surcharge**: Jumlah total yang dikumpulkan untuk surcharge kemacetan NYC selama perjalanan."
      ],
      "metadata": {
        "id": "y7FJQfrrCDRw"
      }
    },
    {
      "cell_type": "markdown",
      "source": [
        "## 📍 Overview"
      ],
      "metadata": {
        "id": "5-QqvWKQCF9Y"
      }
    },
    {
      "cell_type": "code",
      "execution_count": 254,
      "metadata": {
        "id": "0c_ERwYGx242",
        "outputId": "70411ac6-f5ac-4703-a6ed-c924b3a772db",
        "colab": {
          "base_uri": "https://localhost:8080/",
          "height": 255
        }
      },
      "outputs": [
        {
          "output_type": "execute_result",
          "data": {
            "text/plain": [
              "       ID  VendorID lpep_pickup_datetime lpep_dropoff_datetime  \\\n",
              "0  T03315       2.0  2021-07-02 17:19:11   2021-07-02 17:40:02   \n",
              "1  T07720       2.0  2021-07-05 22:48:04   2021-07-05 23:12:02   \n",
              "2  T09695       2.0  2021-07-07 06:29:43   2021-07-07 06:38:42   \n",
              "3  T08802       2.0  2021-07-06 15:33:29   2021-07-06 15:43:25   \n",
              "4  T01413       2.0  2021-07-01 17:09:07   2021-07-01 18:03:12   \n",
              "\n",
              "  store_and_fwd_flag  RatecodeID  PULocationID  DOLocationID  passenger_count  \\\n",
              "0                  N         1.0           152           142              1.0   \n",
              "1                  N         1.0            93           107              2.0   \n",
              "2                  N         1.0            74            75              1.0   \n",
              "3                  N         1.0           226           129              1.0   \n",
              "4                  N         1.0            55            86              1.0   \n",
              "\n",
              "   trip_distance  ...  extra  mta_tax  tip_amount  tolls_amount  ehail_fee  \\\n",
              "0           4.30  ...    1.0      0.5        5.00          0.00        NaN   \n",
              "1          13.52  ...    0.5      0.5       12.15          6.55        NaN   \n",
              "2           1.55  ...    0.0      0.5        0.00          0.00        NaN   \n",
              "3           1.22  ...    0.0      0.5        0.00          0.00        NaN   \n",
              "4          14.23  ...    1.0      0.5        0.00          2.45        NaN   \n",
              "\n",
              "   improvement_surcharge  total_amount  trip_type  congestion_surcharge  \\\n",
              "0                    0.3         27.55        1.0                  2.75   \n",
              "1                    0.3         60.75        1.0                  2.75   \n",
              "2                    0.3          8.80        1.0                  0.00   \n",
              "3                    0.3          8.80        1.0                  0.00   \n",
              "4                    0.3         49.75        1.0                  0.00   \n",
              "\n",
              "   payment_type  \n",
              "0           1.0  \n",
              "1           1.0  \n",
              "2           2.0  \n",
              "3           2.0  \n",
              "4           1.0  \n",
              "\n",
              "[5 rows x 21 columns]"
            ],
            "text/html": [
              "\n",
              "  <div id=\"df-5730c074-1809-4b02-8bf6-2aabb9574a39\" class=\"colab-df-container\">\n",
              "    <div>\n",
              "<style scoped>\n",
              "    .dataframe tbody tr th:only-of-type {\n",
              "        vertical-align: middle;\n",
              "    }\n",
              "\n",
              "    .dataframe tbody tr th {\n",
              "        vertical-align: top;\n",
              "    }\n",
              "\n",
              "    .dataframe thead th {\n",
              "        text-align: right;\n",
              "    }\n",
              "</style>\n",
              "<table border=\"1\" class=\"dataframe\">\n",
              "  <thead>\n",
              "    <tr style=\"text-align: right;\">\n",
              "      <th></th>\n",
              "      <th>ID</th>\n",
              "      <th>VendorID</th>\n",
              "      <th>lpep_pickup_datetime</th>\n",
              "      <th>lpep_dropoff_datetime</th>\n",
              "      <th>store_and_fwd_flag</th>\n",
              "      <th>RatecodeID</th>\n",
              "      <th>PULocationID</th>\n",
              "      <th>DOLocationID</th>\n",
              "      <th>passenger_count</th>\n",
              "      <th>trip_distance</th>\n",
              "      <th>...</th>\n",
              "      <th>extra</th>\n",
              "      <th>mta_tax</th>\n",
              "      <th>tip_amount</th>\n",
              "      <th>tolls_amount</th>\n",
              "      <th>ehail_fee</th>\n",
              "      <th>improvement_surcharge</th>\n",
              "      <th>total_amount</th>\n",
              "      <th>trip_type</th>\n",
              "      <th>congestion_surcharge</th>\n",
              "      <th>payment_type</th>\n",
              "    </tr>\n",
              "  </thead>\n",
              "  <tbody>\n",
              "    <tr>\n",
              "      <th>0</th>\n",
              "      <td>T03315</td>\n",
              "      <td>2.0</td>\n",
              "      <td>2021-07-02 17:19:11</td>\n",
              "      <td>2021-07-02 17:40:02</td>\n",
              "      <td>N</td>\n",
              "      <td>1.0</td>\n",
              "      <td>152</td>\n",
              "      <td>142</td>\n",
              "      <td>1.0</td>\n",
              "      <td>4.30</td>\n",
              "      <td>...</td>\n",
              "      <td>1.0</td>\n",
              "      <td>0.5</td>\n",
              "      <td>5.00</td>\n",
              "      <td>0.00</td>\n",
              "      <td>NaN</td>\n",
              "      <td>0.3</td>\n",
              "      <td>27.55</td>\n",
              "      <td>1.0</td>\n",
              "      <td>2.75</td>\n",
              "      <td>1.0</td>\n",
              "    </tr>\n",
              "    <tr>\n",
              "      <th>1</th>\n",
              "      <td>T07720</td>\n",
              "      <td>2.0</td>\n",
              "      <td>2021-07-05 22:48:04</td>\n",
              "      <td>2021-07-05 23:12:02</td>\n",
              "      <td>N</td>\n",
              "      <td>1.0</td>\n",
              "      <td>93</td>\n",
              "      <td>107</td>\n",
              "      <td>2.0</td>\n",
              "      <td>13.52</td>\n",
              "      <td>...</td>\n",
              "      <td>0.5</td>\n",
              "      <td>0.5</td>\n",
              "      <td>12.15</td>\n",
              "      <td>6.55</td>\n",
              "      <td>NaN</td>\n",
              "      <td>0.3</td>\n",
              "      <td>60.75</td>\n",
              "      <td>1.0</td>\n",
              "      <td>2.75</td>\n",
              "      <td>1.0</td>\n",
              "    </tr>\n",
              "    <tr>\n",
              "      <th>2</th>\n",
              "      <td>T09695</td>\n",
              "      <td>2.0</td>\n",
              "      <td>2021-07-07 06:29:43</td>\n",
              "      <td>2021-07-07 06:38:42</td>\n",
              "      <td>N</td>\n",
              "      <td>1.0</td>\n",
              "      <td>74</td>\n",
              "      <td>75</td>\n",
              "      <td>1.0</td>\n",
              "      <td>1.55</td>\n",
              "      <td>...</td>\n",
              "      <td>0.0</td>\n",
              "      <td>0.5</td>\n",
              "      <td>0.00</td>\n",
              "      <td>0.00</td>\n",
              "      <td>NaN</td>\n",
              "      <td>0.3</td>\n",
              "      <td>8.80</td>\n",
              "      <td>1.0</td>\n",
              "      <td>0.00</td>\n",
              "      <td>2.0</td>\n",
              "    </tr>\n",
              "    <tr>\n",
              "      <th>3</th>\n",
              "      <td>T08802</td>\n",
              "      <td>2.0</td>\n",
              "      <td>2021-07-06 15:33:29</td>\n",
              "      <td>2021-07-06 15:43:25</td>\n",
              "      <td>N</td>\n",
              "      <td>1.0</td>\n",
              "      <td>226</td>\n",
              "      <td>129</td>\n",
              "      <td>1.0</td>\n",
              "      <td>1.22</td>\n",
              "      <td>...</td>\n",
              "      <td>0.0</td>\n",
              "      <td>0.5</td>\n",
              "      <td>0.00</td>\n",
              "      <td>0.00</td>\n",
              "      <td>NaN</td>\n",
              "      <td>0.3</td>\n",
              "      <td>8.80</td>\n",
              "      <td>1.0</td>\n",
              "      <td>0.00</td>\n",
              "      <td>2.0</td>\n",
              "    </tr>\n",
              "    <tr>\n",
              "      <th>4</th>\n",
              "      <td>T01413</td>\n",
              "      <td>2.0</td>\n",
              "      <td>2021-07-01 17:09:07</td>\n",
              "      <td>2021-07-01 18:03:12</td>\n",
              "      <td>N</td>\n",
              "      <td>1.0</td>\n",
              "      <td>55</td>\n",
              "      <td>86</td>\n",
              "      <td>1.0</td>\n",
              "      <td>14.23</td>\n",
              "      <td>...</td>\n",
              "      <td>1.0</td>\n",
              "      <td>0.5</td>\n",
              "      <td>0.00</td>\n",
              "      <td>2.45</td>\n",
              "      <td>NaN</td>\n",
              "      <td>0.3</td>\n",
              "      <td>49.75</td>\n",
              "      <td>1.0</td>\n",
              "      <td>0.00</td>\n",
              "      <td>1.0</td>\n",
              "    </tr>\n",
              "  </tbody>\n",
              "</table>\n",
              "<p>5 rows × 21 columns</p>\n",
              "</div>\n",
              "    <div class=\"colab-df-buttons\">\n",
              "\n",
              "  <div class=\"colab-df-container\">\n",
              "    <button class=\"colab-df-convert\" onclick=\"convertToInteractive('df-5730c074-1809-4b02-8bf6-2aabb9574a39')\"\n",
              "            title=\"Convert this dataframe to an interactive table.\"\n",
              "            style=\"display:none;\">\n",
              "\n",
              "  <svg xmlns=\"http://www.w3.org/2000/svg\" height=\"24px\" viewBox=\"0 -960 960 960\">\n",
              "    <path d=\"M120-120v-720h720v720H120Zm60-500h600v-160H180v160Zm220 220h160v-160H400v160Zm0 220h160v-160H400v160ZM180-400h160v-160H180v160Zm440 0h160v-160H620v160ZM180-180h160v-160H180v160Zm440 0h160v-160H620v160Z\"/>\n",
              "  </svg>\n",
              "    </button>\n",
              "\n",
              "  <style>\n",
              "    .colab-df-container {\n",
              "      display:flex;\n",
              "      gap: 12px;\n",
              "    }\n",
              "\n",
              "    .colab-df-convert {\n",
              "      background-color: #E8F0FE;\n",
              "      border: none;\n",
              "      border-radius: 50%;\n",
              "      cursor: pointer;\n",
              "      display: none;\n",
              "      fill: #1967D2;\n",
              "      height: 32px;\n",
              "      padding: 0 0 0 0;\n",
              "      width: 32px;\n",
              "    }\n",
              "\n",
              "    .colab-df-convert:hover {\n",
              "      background-color: #E2EBFA;\n",
              "      box-shadow: 0px 1px 2px rgba(60, 64, 67, 0.3), 0px 1px 3px 1px rgba(60, 64, 67, 0.15);\n",
              "      fill: #174EA6;\n",
              "    }\n",
              "\n",
              "    .colab-df-buttons div {\n",
              "      margin-bottom: 4px;\n",
              "    }\n",
              "\n",
              "    [theme=dark] .colab-df-convert {\n",
              "      background-color: #3B4455;\n",
              "      fill: #D2E3FC;\n",
              "    }\n",
              "\n",
              "    [theme=dark] .colab-df-convert:hover {\n",
              "      background-color: #434B5C;\n",
              "      box-shadow: 0px 1px 3px 1px rgba(0, 0, 0, 0.15);\n",
              "      filter: drop-shadow(0px 1px 2px rgba(0, 0, 0, 0.3));\n",
              "      fill: #FFFFFF;\n",
              "    }\n",
              "  </style>\n",
              "\n",
              "    <script>\n",
              "      const buttonEl =\n",
              "        document.querySelector('#df-5730c074-1809-4b02-8bf6-2aabb9574a39 button.colab-df-convert');\n",
              "      buttonEl.style.display =\n",
              "        google.colab.kernel.accessAllowed ? 'block' : 'none';\n",
              "\n",
              "      async function convertToInteractive(key) {\n",
              "        const element = document.querySelector('#df-5730c074-1809-4b02-8bf6-2aabb9574a39');\n",
              "        const dataTable =\n",
              "          await google.colab.kernel.invokeFunction('convertToInteractive',\n",
              "                                                    [key], {});\n",
              "        if (!dataTable) return;\n",
              "\n",
              "        const docLinkHtml = 'Like what you see? Visit the ' +\n",
              "          '<a target=\"_blank\" href=https://colab.research.google.com/notebooks/data_table.ipynb>data table notebook</a>'\n",
              "          + ' to learn more about interactive tables.';\n",
              "        element.innerHTML = '';\n",
              "        dataTable['output_type'] = 'display_data';\n",
              "        await google.colab.output.renderOutput(dataTable, element);\n",
              "        const docLink = document.createElement('div');\n",
              "        docLink.innerHTML = docLinkHtml;\n",
              "        element.appendChild(docLink);\n",
              "      }\n",
              "    </script>\n",
              "  </div>\n",
              "\n",
              "\n",
              "<div id=\"df-055cd91e-cf76-42b7-8dcd-b02ada407b30\">\n",
              "  <button class=\"colab-df-quickchart\" onclick=\"quickchart('df-055cd91e-cf76-42b7-8dcd-b02ada407b30')\"\n",
              "            title=\"Suggest charts\"\n",
              "            style=\"display:none;\">\n",
              "\n",
              "<svg xmlns=\"http://www.w3.org/2000/svg\" height=\"24px\"viewBox=\"0 0 24 24\"\n",
              "     width=\"24px\">\n",
              "    <g>\n",
              "        <path d=\"M19 3H5c-1.1 0-2 .9-2 2v14c0 1.1.9 2 2 2h14c1.1 0 2-.9 2-2V5c0-1.1-.9-2-2-2zM9 17H7v-7h2v7zm4 0h-2V7h2v10zm4 0h-2v-4h2v4z\"/>\n",
              "    </g>\n",
              "</svg>\n",
              "  </button>\n",
              "\n",
              "<style>\n",
              "  .colab-df-quickchart {\n",
              "      --bg-color: #E8F0FE;\n",
              "      --fill-color: #1967D2;\n",
              "      --hover-bg-color: #E2EBFA;\n",
              "      --hover-fill-color: #174EA6;\n",
              "      --disabled-fill-color: #AAA;\n",
              "      --disabled-bg-color: #DDD;\n",
              "  }\n",
              "\n",
              "  [theme=dark] .colab-df-quickchart {\n",
              "      --bg-color: #3B4455;\n",
              "      --fill-color: #D2E3FC;\n",
              "      --hover-bg-color: #434B5C;\n",
              "      --hover-fill-color: #FFFFFF;\n",
              "      --disabled-bg-color: #3B4455;\n",
              "      --disabled-fill-color: #666;\n",
              "  }\n",
              "\n",
              "  .colab-df-quickchart {\n",
              "    background-color: var(--bg-color);\n",
              "    border: none;\n",
              "    border-radius: 50%;\n",
              "    cursor: pointer;\n",
              "    display: none;\n",
              "    fill: var(--fill-color);\n",
              "    height: 32px;\n",
              "    padding: 0;\n",
              "    width: 32px;\n",
              "  }\n",
              "\n",
              "  .colab-df-quickchart:hover {\n",
              "    background-color: var(--hover-bg-color);\n",
              "    box-shadow: 0 1px 2px rgba(60, 64, 67, 0.3), 0 1px 3px 1px rgba(60, 64, 67, 0.15);\n",
              "    fill: var(--button-hover-fill-color);\n",
              "  }\n",
              "\n",
              "  .colab-df-quickchart-complete:disabled,\n",
              "  .colab-df-quickchart-complete:disabled:hover {\n",
              "    background-color: var(--disabled-bg-color);\n",
              "    fill: var(--disabled-fill-color);\n",
              "    box-shadow: none;\n",
              "  }\n",
              "\n",
              "  .colab-df-spinner {\n",
              "    border: 2px solid var(--fill-color);\n",
              "    border-color: transparent;\n",
              "    border-bottom-color: var(--fill-color);\n",
              "    animation:\n",
              "      spin 1s steps(1) infinite;\n",
              "  }\n",
              "\n",
              "  @keyframes spin {\n",
              "    0% {\n",
              "      border-color: transparent;\n",
              "      border-bottom-color: var(--fill-color);\n",
              "      border-left-color: var(--fill-color);\n",
              "    }\n",
              "    20% {\n",
              "      border-color: transparent;\n",
              "      border-left-color: var(--fill-color);\n",
              "      border-top-color: var(--fill-color);\n",
              "    }\n",
              "    30% {\n",
              "      border-color: transparent;\n",
              "      border-left-color: var(--fill-color);\n",
              "      border-top-color: var(--fill-color);\n",
              "      border-right-color: var(--fill-color);\n",
              "    }\n",
              "    40% {\n",
              "      border-color: transparent;\n",
              "      border-right-color: var(--fill-color);\n",
              "      border-top-color: var(--fill-color);\n",
              "    }\n",
              "    60% {\n",
              "      border-color: transparent;\n",
              "      border-right-color: var(--fill-color);\n",
              "    }\n",
              "    80% {\n",
              "      border-color: transparent;\n",
              "      border-right-color: var(--fill-color);\n",
              "      border-bottom-color: var(--fill-color);\n",
              "    }\n",
              "    90% {\n",
              "      border-color: transparent;\n",
              "      border-bottom-color: var(--fill-color);\n",
              "    }\n",
              "  }\n",
              "</style>\n",
              "\n",
              "  <script>\n",
              "    async function quickchart(key) {\n",
              "      const quickchartButtonEl =\n",
              "        document.querySelector('#' + key + ' button');\n",
              "      quickchartButtonEl.disabled = true;  // To prevent multiple clicks.\n",
              "      quickchartButtonEl.classList.add('colab-df-spinner');\n",
              "      try {\n",
              "        const charts = await google.colab.kernel.invokeFunction(\n",
              "            'suggestCharts', [key], {});\n",
              "      } catch (error) {\n",
              "        console.error('Error during call to suggestCharts:', error);\n",
              "      }\n",
              "      quickchartButtonEl.classList.remove('colab-df-spinner');\n",
              "      quickchartButtonEl.classList.add('colab-df-quickchart-complete');\n",
              "    }\n",
              "    (() => {\n",
              "      let quickchartButtonEl =\n",
              "        document.querySelector('#df-055cd91e-cf76-42b7-8dcd-b02ada407b30 button');\n",
              "      quickchartButtonEl.style.display =\n",
              "        google.colab.kernel.accessAllowed ? 'block' : 'none';\n",
              "    })();\n",
              "  </script>\n",
              "</div>\n",
              "\n",
              "    </div>\n",
              "  </div>\n"
            ],
            "application/vnd.google.colaboratory.intrinsic+json": {
              "type": "dataframe",
              "variable_name": "df"
            }
          },
          "metadata": {},
          "execution_count": 254
        }
      ],
      "source": [
        "df.head()"
      ]
    },
    {
      "cell_type": "code",
      "source": [
        "df.describe()"
      ],
      "metadata": {
        "id": "jzCju33eCIVu",
        "outputId": "3d6a0fe8-a32b-4375-bd58-e4452e043840",
        "colab": {
          "base_uri": "https://localhost:8080/",
          "height": 320
        }
      },
      "execution_count": 255,
      "outputs": [
        {
          "output_type": "execute_result",
          "data": {
            "text/plain": [
              "          VendorID   RatecodeID  PULocationID  DOLocationID  passenger_count  \\\n",
              "count  8000.000000  8000.000000   8000.000000   8000.000000      8000.000000   \n",
              "mean      1.833250     1.176375     98.700125    134.694875         1.270125   \n",
              "std       0.372776     0.813541     64.792549     77.750038         0.917885   \n",
              "min       1.000000     1.000000      3.000000      1.000000         0.000000   \n",
              "25%       2.000000     1.000000     55.000000     74.000000         1.000000   \n",
              "50%       2.000000     1.000000     75.000000    135.000000         1.000000   \n",
              "75%       2.000000     1.000000    129.000000    212.000000         1.000000   \n",
              "max       2.000000     5.000000    265.000000    265.000000         6.000000   \n",
              "\n",
              "       trip_distance  fare_amount        extra      mta_tax   tip_amount  \\\n",
              "count    8000.000000  8000.000000  8000.000000  8000.000000  8000.000000   \n",
              "mean        3.459532    14.995941     0.330781     0.475875     1.277159   \n",
              "std         4.601964    14.543702     0.626111     0.113664     2.476832   \n",
              "min         0.000000   -25.000000    -1.000000    -0.500000    -1.140000   \n",
              "25%         1.030000     7.000000     0.000000     0.500000     0.000000   \n",
              "50%         1.930000    10.200000     0.000000     0.500000     0.000000   \n",
              "75%         3.790000    16.500000     0.500000     0.500000     2.040000   \n",
              "max        37.600000   156.000000     4.500000     0.500000    47.880000   \n",
              "\n",
              "       tolls_amount  ehail_fee  improvement_surcharge  total_amount  \\\n",
              "count   8000.000000        0.0            8000.000000   8000.000000   \n",
              "mean       0.351390        NaN               0.296887     18.237415   \n",
              "std        1.503395        NaN               0.038558     16.126335   \n",
              "min        0.000000        NaN              -0.300000    -28.550000   \n",
              "25%        0.000000        NaN               0.300000      8.800000   \n",
              "50%        0.000000        NaN               0.300000     13.300000   \n",
              "75%        0.000000        NaN               0.300000     20.800000   \n",
              "max       13.750000        NaN               0.300000    207.480000   \n",
              "\n",
              "         trip_type  congestion_surcharge  payment_type  \n",
              "count  8000.000000           8000.000000   8000.000000  \n",
              "mean      1.037875              0.599500      1.427625  \n",
              "std       0.190906              1.136344      0.517972  \n",
              "min       1.000000             -2.750000      1.000000  \n",
              "25%       1.000000              0.000000      1.000000  \n",
              "50%       1.000000              0.000000      1.000000  \n",
              "75%       1.000000              0.000000      2.000000  \n",
              "max       2.000000              2.750000      4.000000  "
            ],
            "text/html": [
              "\n",
              "  <div id=\"df-0a2b625d-a77e-4d46-9603-368bd01ae6c3\" class=\"colab-df-container\">\n",
              "    <div>\n",
              "<style scoped>\n",
              "    .dataframe tbody tr th:only-of-type {\n",
              "        vertical-align: middle;\n",
              "    }\n",
              "\n",
              "    .dataframe tbody tr th {\n",
              "        vertical-align: top;\n",
              "    }\n",
              "\n",
              "    .dataframe thead th {\n",
              "        text-align: right;\n",
              "    }\n",
              "</style>\n",
              "<table border=\"1\" class=\"dataframe\">\n",
              "  <thead>\n",
              "    <tr style=\"text-align: right;\">\n",
              "      <th></th>\n",
              "      <th>VendorID</th>\n",
              "      <th>RatecodeID</th>\n",
              "      <th>PULocationID</th>\n",
              "      <th>DOLocationID</th>\n",
              "      <th>passenger_count</th>\n",
              "      <th>trip_distance</th>\n",
              "      <th>fare_amount</th>\n",
              "      <th>extra</th>\n",
              "      <th>mta_tax</th>\n",
              "      <th>tip_amount</th>\n",
              "      <th>tolls_amount</th>\n",
              "      <th>ehail_fee</th>\n",
              "      <th>improvement_surcharge</th>\n",
              "      <th>total_amount</th>\n",
              "      <th>trip_type</th>\n",
              "      <th>congestion_surcharge</th>\n",
              "      <th>payment_type</th>\n",
              "    </tr>\n",
              "  </thead>\n",
              "  <tbody>\n",
              "    <tr>\n",
              "      <th>count</th>\n",
              "      <td>8000.000000</td>\n",
              "      <td>8000.000000</td>\n",
              "      <td>8000.000000</td>\n",
              "      <td>8000.000000</td>\n",
              "      <td>8000.000000</td>\n",
              "      <td>8000.000000</td>\n",
              "      <td>8000.000000</td>\n",
              "      <td>8000.000000</td>\n",
              "      <td>8000.000000</td>\n",
              "      <td>8000.000000</td>\n",
              "      <td>8000.000000</td>\n",
              "      <td>0.0</td>\n",
              "      <td>8000.000000</td>\n",
              "      <td>8000.000000</td>\n",
              "      <td>8000.000000</td>\n",
              "      <td>8000.000000</td>\n",
              "      <td>8000.000000</td>\n",
              "    </tr>\n",
              "    <tr>\n",
              "      <th>mean</th>\n",
              "      <td>1.833250</td>\n",
              "      <td>1.176375</td>\n",
              "      <td>98.700125</td>\n",
              "      <td>134.694875</td>\n",
              "      <td>1.270125</td>\n",
              "      <td>3.459532</td>\n",
              "      <td>14.995941</td>\n",
              "      <td>0.330781</td>\n",
              "      <td>0.475875</td>\n",
              "      <td>1.277159</td>\n",
              "      <td>0.351390</td>\n",
              "      <td>NaN</td>\n",
              "      <td>0.296887</td>\n",
              "      <td>18.237415</td>\n",
              "      <td>1.037875</td>\n",
              "      <td>0.599500</td>\n",
              "      <td>1.427625</td>\n",
              "    </tr>\n",
              "    <tr>\n",
              "      <th>std</th>\n",
              "      <td>0.372776</td>\n",
              "      <td>0.813541</td>\n",
              "      <td>64.792549</td>\n",
              "      <td>77.750038</td>\n",
              "      <td>0.917885</td>\n",
              "      <td>4.601964</td>\n",
              "      <td>14.543702</td>\n",
              "      <td>0.626111</td>\n",
              "      <td>0.113664</td>\n",
              "      <td>2.476832</td>\n",
              "      <td>1.503395</td>\n",
              "      <td>NaN</td>\n",
              "      <td>0.038558</td>\n",
              "      <td>16.126335</td>\n",
              "      <td>0.190906</td>\n",
              "      <td>1.136344</td>\n",
              "      <td>0.517972</td>\n",
              "    </tr>\n",
              "    <tr>\n",
              "      <th>min</th>\n",
              "      <td>1.000000</td>\n",
              "      <td>1.000000</td>\n",
              "      <td>3.000000</td>\n",
              "      <td>1.000000</td>\n",
              "      <td>0.000000</td>\n",
              "      <td>0.000000</td>\n",
              "      <td>-25.000000</td>\n",
              "      <td>-1.000000</td>\n",
              "      <td>-0.500000</td>\n",
              "      <td>-1.140000</td>\n",
              "      <td>0.000000</td>\n",
              "      <td>NaN</td>\n",
              "      <td>-0.300000</td>\n",
              "      <td>-28.550000</td>\n",
              "      <td>1.000000</td>\n",
              "      <td>-2.750000</td>\n",
              "      <td>1.000000</td>\n",
              "    </tr>\n",
              "    <tr>\n",
              "      <th>25%</th>\n",
              "      <td>2.000000</td>\n",
              "      <td>1.000000</td>\n",
              "      <td>55.000000</td>\n",
              "      <td>74.000000</td>\n",
              "      <td>1.000000</td>\n",
              "      <td>1.030000</td>\n",
              "      <td>7.000000</td>\n",
              "      <td>0.000000</td>\n",
              "      <td>0.500000</td>\n",
              "      <td>0.000000</td>\n",
              "      <td>0.000000</td>\n",
              "      <td>NaN</td>\n",
              "      <td>0.300000</td>\n",
              "      <td>8.800000</td>\n",
              "      <td>1.000000</td>\n",
              "      <td>0.000000</td>\n",
              "      <td>1.000000</td>\n",
              "    </tr>\n",
              "    <tr>\n",
              "      <th>50%</th>\n",
              "      <td>2.000000</td>\n",
              "      <td>1.000000</td>\n",
              "      <td>75.000000</td>\n",
              "      <td>135.000000</td>\n",
              "      <td>1.000000</td>\n",
              "      <td>1.930000</td>\n",
              "      <td>10.200000</td>\n",
              "      <td>0.000000</td>\n",
              "      <td>0.500000</td>\n",
              "      <td>0.000000</td>\n",
              "      <td>0.000000</td>\n",
              "      <td>NaN</td>\n",
              "      <td>0.300000</td>\n",
              "      <td>13.300000</td>\n",
              "      <td>1.000000</td>\n",
              "      <td>0.000000</td>\n",
              "      <td>1.000000</td>\n",
              "    </tr>\n",
              "    <tr>\n",
              "      <th>75%</th>\n",
              "      <td>2.000000</td>\n",
              "      <td>1.000000</td>\n",
              "      <td>129.000000</td>\n",
              "      <td>212.000000</td>\n",
              "      <td>1.000000</td>\n",
              "      <td>3.790000</td>\n",
              "      <td>16.500000</td>\n",
              "      <td>0.500000</td>\n",
              "      <td>0.500000</td>\n",
              "      <td>2.040000</td>\n",
              "      <td>0.000000</td>\n",
              "      <td>NaN</td>\n",
              "      <td>0.300000</td>\n",
              "      <td>20.800000</td>\n",
              "      <td>1.000000</td>\n",
              "      <td>0.000000</td>\n",
              "      <td>2.000000</td>\n",
              "    </tr>\n",
              "    <tr>\n",
              "      <th>max</th>\n",
              "      <td>2.000000</td>\n",
              "      <td>5.000000</td>\n",
              "      <td>265.000000</td>\n",
              "      <td>265.000000</td>\n",
              "      <td>6.000000</td>\n",
              "      <td>37.600000</td>\n",
              "      <td>156.000000</td>\n",
              "      <td>4.500000</td>\n",
              "      <td>0.500000</td>\n",
              "      <td>47.880000</td>\n",
              "      <td>13.750000</td>\n",
              "      <td>NaN</td>\n",
              "      <td>0.300000</td>\n",
              "      <td>207.480000</td>\n",
              "      <td>2.000000</td>\n",
              "      <td>2.750000</td>\n",
              "      <td>4.000000</td>\n",
              "    </tr>\n",
              "  </tbody>\n",
              "</table>\n",
              "</div>\n",
              "    <div class=\"colab-df-buttons\">\n",
              "\n",
              "  <div class=\"colab-df-container\">\n",
              "    <button class=\"colab-df-convert\" onclick=\"convertToInteractive('df-0a2b625d-a77e-4d46-9603-368bd01ae6c3')\"\n",
              "            title=\"Convert this dataframe to an interactive table.\"\n",
              "            style=\"display:none;\">\n",
              "\n",
              "  <svg xmlns=\"http://www.w3.org/2000/svg\" height=\"24px\" viewBox=\"0 -960 960 960\">\n",
              "    <path d=\"M120-120v-720h720v720H120Zm60-500h600v-160H180v160Zm220 220h160v-160H400v160Zm0 220h160v-160H400v160ZM180-400h160v-160H180v160Zm440 0h160v-160H620v160ZM180-180h160v-160H180v160Zm440 0h160v-160H620v160Z\"/>\n",
              "  </svg>\n",
              "    </button>\n",
              "\n",
              "  <style>\n",
              "    .colab-df-container {\n",
              "      display:flex;\n",
              "      gap: 12px;\n",
              "    }\n",
              "\n",
              "    .colab-df-convert {\n",
              "      background-color: #E8F0FE;\n",
              "      border: none;\n",
              "      border-radius: 50%;\n",
              "      cursor: pointer;\n",
              "      display: none;\n",
              "      fill: #1967D2;\n",
              "      height: 32px;\n",
              "      padding: 0 0 0 0;\n",
              "      width: 32px;\n",
              "    }\n",
              "\n",
              "    .colab-df-convert:hover {\n",
              "      background-color: #E2EBFA;\n",
              "      box-shadow: 0px 1px 2px rgba(60, 64, 67, 0.3), 0px 1px 3px 1px rgba(60, 64, 67, 0.15);\n",
              "      fill: #174EA6;\n",
              "    }\n",
              "\n",
              "    .colab-df-buttons div {\n",
              "      margin-bottom: 4px;\n",
              "    }\n",
              "\n",
              "    [theme=dark] .colab-df-convert {\n",
              "      background-color: #3B4455;\n",
              "      fill: #D2E3FC;\n",
              "    }\n",
              "\n",
              "    [theme=dark] .colab-df-convert:hover {\n",
              "      background-color: #434B5C;\n",
              "      box-shadow: 0px 1px 3px 1px rgba(0, 0, 0, 0.15);\n",
              "      filter: drop-shadow(0px 1px 2px rgba(0, 0, 0, 0.3));\n",
              "      fill: #FFFFFF;\n",
              "    }\n",
              "  </style>\n",
              "\n",
              "    <script>\n",
              "      const buttonEl =\n",
              "        document.querySelector('#df-0a2b625d-a77e-4d46-9603-368bd01ae6c3 button.colab-df-convert');\n",
              "      buttonEl.style.display =\n",
              "        google.colab.kernel.accessAllowed ? 'block' : 'none';\n",
              "\n",
              "      async function convertToInteractive(key) {\n",
              "        const element = document.querySelector('#df-0a2b625d-a77e-4d46-9603-368bd01ae6c3');\n",
              "        const dataTable =\n",
              "          await google.colab.kernel.invokeFunction('convertToInteractive',\n",
              "                                                    [key], {});\n",
              "        if (!dataTable) return;\n",
              "\n",
              "        const docLinkHtml = 'Like what you see? Visit the ' +\n",
              "          '<a target=\"_blank\" href=https://colab.research.google.com/notebooks/data_table.ipynb>data table notebook</a>'\n",
              "          + ' to learn more about interactive tables.';\n",
              "        element.innerHTML = '';\n",
              "        dataTable['output_type'] = 'display_data';\n",
              "        await google.colab.output.renderOutput(dataTable, element);\n",
              "        const docLink = document.createElement('div');\n",
              "        docLink.innerHTML = docLinkHtml;\n",
              "        element.appendChild(docLink);\n",
              "      }\n",
              "    </script>\n",
              "  </div>\n",
              "\n",
              "\n",
              "<div id=\"df-c6092869-7c12-4d89-a8ab-fbf8f5cc0d48\">\n",
              "  <button class=\"colab-df-quickchart\" onclick=\"quickchart('df-c6092869-7c12-4d89-a8ab-fbf8f5cc0d48')\"\n",
              "            title=\"Suggest charts\"\n",
              "            style=\"display:none;\">\n",
              "\n",
              "<svg xmlns=\"http://www.w3.org/2000/svg\" height=\"24px\"viewBox=\"0 0 24 24\"\n",
              "     width=\"24px\">\n",
              "    <g>\n",
              "        <path d=\"M19 3H5c-1.1 0-2 .9-2 2v14c0 1.1.9 2 2 2h14c1.1 0 2-.9 2-2V5c0-1.1-.9-2-2-2zM9 17H7v-7h2v7zm4 0h-2V7h2v10zm4 0h-2v-4h2v4z\"/>\n",
              "    </g>\n",
              "</svg>\n",
              "  </button>\n",
              "\n",
              "<style>\n",
              "  .colab-df-quickchart {\n",
              "      --bg-color: #E8F0FE;\n",
              "      --fill-color: #1967D2;\n",
              "      --hover-bg-color: #E2EBFA;\n",
              "      --hover-fill-color: #174EA6;\n",
              "      --disabled-fill-color: #AAA;\n",
              "      --disabled-bg-color: #DDD;\n",
              "  }\n",
              "\n",
              "  [theme=dark] .colab-df-quickchart {\n",
              "      --bg-color: #3B4455;\n",
              "      --fill-color: #D2E3FC;\n",
              "      --hover-bg-color: #434B5C;\n",
              "      --hover-fill-color: #FFFFFF;\n",
              "      --disabled-bg-color: #3B4455;\n",
              "      --disabled-fill-color: #666;\n",
              "  }\n",
              "\n",
              "  .colab-df-quickchart {\n",
              "    background-color: var(--bg-color);\n",
              "    border: none;\n",
              "    border-radius: 50%;\n",
              "    cursor: pointer;\n",
              "    display: none;\n",
              "    fill: var(--fill-color);\n",
              "    height: 32px;\n",
              "    padding: 0;\n",
              "    width: 32px;\n",
              "  }\n",
              "\n",
              "  .colab-df-quickchart:hover {\n",
              "    background-color: var(--hover-bg-color);\n",
              "    box-shadow: 0 1px 2px rgba(60, 64, 67, 0.3), 0 1px 3px 1px rgba(60, 64, 67, 0.15);\n",
              "    fill: var(--button-hover-fill-color);\n",
              "  }\n",
              "\n",
              "  .colab-df-quickchart-complete:disabled,\n",
              "  .colab-df-quickchart-complete:disabled:hover {\n",
              "    background-color: var(--disabled-bg-color);\n",
              "    fill: var(--disabled-fill-color);\n",
              "    box-shadow: none;\n",
              "  }\n",
              "\n",
              "  .colab-df-spinner {\n",
              "    border: 2px solid var(--fill-color);\n",
              "    border-color: transparent;\n",
              "    border-bottom-color: var(--fill-color);\n",
              "    animation:\n",
              "      spin 1s steps(1) infinite;\n",
              "  }\n",
              "\n",
              "  @keyframes spin {\n",
              "    0% {\n",
              "      border-color: transparent;\n",
              "      border-bottom-color: var(--fill-color);\n",
              "      border-left-color: var(--fill-color);\n",
              "    }\n",
              "    20% {\n",
              "      border-color: transparent;\n",
              "      border-left-color: var(--fill-color);\n",
              "      border-top-color: var(--fill-color);\n",
              "    }\n",
              "    30% {\n",
              "      border-color: transparent;\n",
              "      border-left-color: var(--fill-color);\n",
              "      border-top-color: var(--fill-color);\n",
              "      border-right-color: var(--fill-color);\n",
              "    }\n",
              "    40% {\n",
              "      border-color: transparent;\n",
              "      border-right-color: var(--fill-color);\n",
              "      border-top-color: var(--fill-color);\n",
              "    }\n",
              "    60% {\n",
              "      border-color: transparent;\n",
              "      border-right-color: var(--fill-color);\n",
              "    }\n",
              "    80% {\n",
              "      border-color: transparent;\n",
              "      border-right-color: var(--fill-color);\n",
              "      border-bottom-color: var(--fill-color);\n",
              "    }\n",
              "    90% {\n",
              "      border-color: transparent;\n",
              "      border-bottom-color: var(--fill-color);\n",
              "    }\n",
              "  }\n",
              "</style>\n",
              "\n",
              "  <script>\n",
              "    async function quickchart(key) {\n",
              "      const quickchartButtonEl =\n",
              "        document.querySelector('#' + key + ' button');\n",
              "      quickchartButtonEl.disabled = true;  // To prevent multiple clicks.\n",
              "      quickchartButtonEl.classList.add('colab-df-spinner');\n",
              "      try {\n",
              "        const charts = await google.colab.kernel.invokeFunction(\n",
              "            'suggestCharts', [key], {});\n",
              "      } catch (error) {\n",
              "        console.error('Error during call to suggestCharts:', error);\n",
              "      }\n",
              "      quickchartButtonEl.classList.remove('colab-df-spinner');\n",
              "      quickchartButtonEl.classList.add('colab-df-quickchart-complete');\n",
              "    }\n",
              "    (() => {\n",
              "      let quickchartButtonEl =\n",
              "        document.querySelector('#df-c6092869-7c12-4d89-a8ab-fbf8f5cc0d48 button');\n",
              "      quickchartButtonEl.style.display =\n",
              "        google.colab.kernel.accessAllowed ? 'block' : 'none';\n",
              "    })();\n",
              "  </script>\n",
              "</div>\n",
              "\n",
              "    </div>\n",
              "  </div>\n"
            ],
            "application/vnd.google.colaboratory.intrinsic+json": {
              "type": "dataframe",
              "summary": "{\n  \"name\": \"df\",\n  \"rows\": 8,\n  \"fields\": [\n    {\n      \"column\": \"VendorID\",\n      \"properties\": {\n        \"dtype\": \"number\",\n        \"std\": 2827.8611996464742,\n        \"min\": 0.37277581429857765,\n        \"max\": 8000.0,\n        \"num_unique_values\": 5,\n        \"samples\": [\n          1.83325,\n          2.0,\n          0.37277581429857765\n        ],\n        \"semantic_type\": \"\",\n        \"description\": \"\"\n      }\n    },\n    {\n      \"column\": \"RatecodeID\",\n      \"properties\": {\n        \"dtype\": \"number\",\n        \"std\": 2827.8723985065985,\n        \"min\": 0.8135413883594503,\n        \"max\": 8000.0,\n        \"num_unique_values\": 5,\n        \"samples\": [\n          1.176375,\n          5.0,\n          0.8135413883594503\n        ],\n        \"semantic_type\": \"\",\n        \"description\": \"\"\n      }\n    },\n    {\n      \"column\": \"PULocationID\",\n      \"properties\": {\n        \"dtype\": \"number\",\n        \"std\": 2794.6091452660753,\n        \"min\": 3.0,\n        \"max\": 8000.0,\n        \"num_unique_values\": 8,\n        \"samples\": [\n          98.700125,\n          75.0,\n          8000.0\n        ],\n        \"semantic_type\": \"\",\n        \"description\": \"\"\n      }\n    },\n    {\n      \"column\": \"DOLocationID\",\n      \"properties\": {\n        \"dtype\": \"number\",\n        \"std\": 2784.2168380211365,\n        \"min\": 1.0,\n        \"max\": 8000.0,\n        \"num_unique_values\": 8,\n        \"samples\": [\n          134.694875,\n          135.0,\n          8000.0\n        ],\n        \"semantic_type\": \"\",\n        \"description\": \"\"\n      }\n    },\n    {\n      \"column\": \"passenger_count\",\n      \"properties\": {\n        \"dtype\": \"number\",\n        \"std\": 2827.862640364018,\n        \"min\": 0.0,\n        \"max\": 8000.0,\n        \"num_unique_values\": 6,\n        \"samples\": [\n          8000.0,\n          1.270125,\n          6.0\n        ],\n        \"semantic_type\": \"\",\n        \"description\": \"\"\n      }\n    },\n    {\n      \"column\": \"trip_distance\",\n      \"properties\": {\n        \"dtype\": \"number\",\n        \"std\": 2825.8070830277456,\n        \"min\": 0.0,\n        \"max\": 8000.0,\n        \"num_unique_values\": 8,\n        \"samples\": [\n          3.4595325,\n          1.93,\n          8000.0\n        ],\n        \"semantic_type\": \"\",\n        \"description\": \"\"\n      }\n    },\n    {\n      \"column\": \"fare_amount\",\n      \"properties\": {\n        \"dtype\": \"number\",\n        \"std\": 2819.1342964739106,\n        \"min\": -25.0,\n        \"max\": 8000.0,\n        \"num_unique_values\": 8,\n        \"samples\": [\n          14.99594125,\n          10.2,\n          8000.0\n        ],\n        \"semantic_type\": \"\",\n        \"description\": \"\"\n      }\n    },\n    {\n      \"column\": \"extra\",\n      \"properties\": {\n        \"dtype\": \"number\",\n        \"std\": 2828.177230873868,\n        \"min\": -1.0,\n        \"max\": 8000.0,\n        \"num_unique_values\": 7,\n        \"samples\": [\n          8000.0,\n          0.33078125,\n          0.5\n        ],\n        \"semantic_type\": \"\",\n        \"description\": \"\"\n      }\n    },\n    {\n      \"column\": \"mta_tax\",\n      \"properties\": {\n        \"dtype\": \"number\",\n        \"std\": 2828.32160892978,\n        \"min\": -0.5,\n        \"max\": 8000.0,\n        \"num_unique_values\": 5,\n        \"samples\": [\n          0.475875,\n          0.5,\n          0.11366441538544644\n        ],\n        \"semantic_type\": \"\",\n        \"description\": \"\"\n      }\n    },\n    {\n      \"column\": \"tip_amount\",\n      \"properties\": {\n        \"dtype\": \"number\",\n        \"std\": 2825.8220741345685,\n        \"min\": -1.14,\n        \"max\": 8000.0,\n        \"num_unique_values\": 7,\n        \"samples\": [\n          8000.0,\n          1.2771587500000001,\n          2.04\n        ],\n        \"semantic_type\": \"\",\n        \"description\": \"\"\n      }\n    },\n    {\n      \"column\": \"tolls_amount\",\n      \"properties\": {\n        \"dtype\": \"number\",\n        \"std\": 2827.6429213977212,\n        \"min\": 0.0,\n        \"max\": 8000.0,\n        \"num_unique_values\": 5,\n        \"samples\": [\n          0.35139,\n          13.75,\n          1.503395496086148\n        ],\n        \"semantic_type\": \"\",\n        \"description\": \"\"\n      }\n    },\n    {\n      \"column\": \"ehail_fee\",\n      \"properties\": {\n        \"dtype\": \"number\",\n        \"std\": null,\n        \"min\": 0.0,\n        \"max\": 0.0,\n        \"num_unique_values\": 1,\n        \"samples\": [\n          0.0\n        ],\n        \"semantic_type\": \"\",\n        \"description\": \"\"\n      }\n    },\n    {\n      \"column\": \"improvement_surcharge\",\n      \"properties\": {\n        \"dtype\": \"number\",\n        \"std\": 2828.364733427897,\n        \"min\": -0.3,\n        \"max\": 8000.0,\n        \"num_unique_values\": 5,\n        \"samples\": [\n          0.2968874999999999\n        ],\n        \"semantic_type\": \"\",\n        \"description\": \"\"\n      }\n    },\n    {\n      \"column\": \"total_amount\",\n      \"properties\": {\n        \"dtype\": \"number\",\n        \"std\": 2816.394624865625,\n        \"min\": -28.55,\n        \"max\": 8000.0,\n        \"num_unique_values\": 8,\n        \"samples\": [\n          18.237415000000006\n        ],\n        \"semantic_type\": \"\",\n        \"description\": \"\"\n      }\n    },\n    {\n      \"column\": \"trip_type\",\n      \"properties\": {\n        \"dtype\": \"number\",\n        \"std\": 2828.0620578167536,\n        \"min\": 0.19090584067806418,\n        \"max\": 8000.0,\n        \"num_unique_values\": 5,\n        \"samples\": [\n          1.037875\n        ],\n        \"semantic_type\": \"\",\n        \"description\": \"\"\n      }\n    },\n    {\n      \"column\": \"congestion_surcharge\",\n      \"properties\": {\n        \"dtype\": \"number\",\n        \"std\": 2828.339864196624,\n        \"min\": -2.75,\n        \"max\": 8000.0,\n        \"num_unique_values\": 6,\n        \"samples\": [\n          8000.0\n        ],\n        \"semantic_type\": \"\",\n        \"description\": \"\"\n      }\n    },\n    {\n      \"column\": \"payment_type\",\n      \"properties\": {\n        \"dtype\": \"number\",\n        \"std\": 2827.874495494217,\n        \"min\": 0.5179723895146762,\n        \"max\": 8000.0,\n        \"num_unique_values\": 6,\n        \"samples\": [\n          8000.0\n        ],\n        \"semantic_type\": \"\",\n        \"description\": \"\"\n      }\n    }\n  ]\n}"
            }
          },
          "metadata": {},
          "execution_count": 255
        }
      ]
    },
    {
      "cell_type": "markdown",
      "source": [
        "# 🛠️ Data Pre-Processing"
      ],
      "metadata": {
        "id": "q6MzkGo2CLI4"
      }
    },
    {
      "cell_type": "markdown",
      "source": [
        "## 📍 Duplicate Data"
      ],
      "metadata": {
        "id": "2M-rPO34BHht"
      }
    },
    {
      "cell_type": "code",
      "source": [
        "# Cek duplikat data\n",
        "print(\"Jumlah duplikasi data: \", df.duplicated().sum())"
      ],
      "metadata": {
        "id": "aPUEzVPfBKJq",
        "outputId": "3eee3e58-e0a7-44e8-eba5-f59afbfee35e",
        "colab": {
          "base_uri": "https://localhost:8080/"
        }
      },
      "execution_count": 256,
      "outputs": [
        {
          "output_type": "stream",
          "name": "stdout",
          "text": [
            "Jumlah duplikasi data:  0\n"
          ]
        }
      ]
    },
    {
      "cell_type": "markdown",
      "source": [
        "## 📍 Missing Values"
      ],
      "metadata": {
        "id": "0phfgUPbBQrH"
      }
    },
    {
      "cell_type": "code",
      "source": [
        "# Threshold\n",
        "MISSING_THRESHOLD = df.shape[0] * 0.5\n",
        "\n",
        "missing_counts = df.isna().sum().sort_values(ascending=False)\n",
        "present_counts = df.notna().sum()\n",
        "missing_percentage = (missing_counts / df.shape[0] * 100).round(2)\n",
        "\n",
        "missing_data_summary = pd.DataFrame({\n",
        "    'Missing Values': missing_counts,\n",
        "    'Present Values': present_counts,\n",
        "    'Missing Percent': missing_percentage\n",
        "})\n",
        "\n",
        "missing_data_summary[missing_data_summary['Missing Values'] > MISSING_THRESHOLD]"
      ],
      "metadata": {
        "id": "gqj-q5QPCUdf",
        "outputId": "6fb03f83-968a-4ca6-f593-59b7d3678eed",
        "colab": {
          "base_uri": "https://localhost:8080/",
          "height": 80
        }
      },
      "execution_count": 257,
      "outputs": [
        {
          "output_type": "execute_result",
          "data": {
            "text/plain": [
              "           Missing Values  Present Values  Missing Percent\n",
              "ehail_fee            8000               0            100.0"
            ],
            "text/html": [
              "\n",
              "  <div id=\"df-8dbdee73-7304-4de7-a5d3-a7ad183f8b2a\" class=\"colab-df-container\">\n",
              "    <div>\n",
              "<style scoped>\n",
              "    .dataframe tbody tr th:only-of-type {\n",
              "        vertical-align: middle;\n",
              "    }\n",
              "\n",
              "    .dataframe tbody tr th {\n",
              "        vertical-align: top;\n",
              "    }\n",
              "\n",
              "    .dataframe thead th {\n",
              "        text-align: right;\n",
              "    }\n",
              "</style>\n",
              "<table border=\"1\" class=\"dataframe\">\n",
              "  <thead>\n",
              "    <tr style=\"text-align: right;\">\n",
              "      <th></th>\n",
              "      <th>Missing Values</th>\n",
              "      <th>Present Values</th>\n",
              "      <th>Missing Percent</th>\n",
              "    </tr>\n",
              "  </thead>\n",
              "  <tbody>\n",
              "    <tr>\n",
              "      <th>ehail_fee</th>\n",
              "      <td>8000</td>\n",
              "      <td>0</td>\n",
              "      <td>100.0</td>\n",
              "    </tr>\n",
              "  </tbody>\n",
              "</table>\n",
              "</div>\n",
              "    <div class=\"colab-df-buttons\">\n",
              "\n",
              "  <div class=\"colab-df-container\">\n",
              "    <button class=\"colab-df-convert\" onclick=\"convertToInteractive('df-8dbdee73-7304-4de7-a5d3-a7ad183f8b2a')\"\n",
              "            title=\"Convert this dataframe to an interactive table.\"\n",
              "            style=\"display:none;\">\n",
              "\n",
              "  <svg xmlns=\"http://www.w3.org/2000/svg\" height=\"24px\" viewBox=\"0 -960 960 960\">\n",
              "    <path d=\"M120-120v-720h720v720H120Zm60-500h600v-160H180v160Zm220 220h160v-160H400v160Zm0 220h160v-160H400v160ZM180-400h160v-160H180v160Zm440 0h160v-160H620v160ZM180-180h160v-160H180v160Zm440 0h160v-160H620v160Z\"/>\n",
              "  </svg>\n",
              "    </button>\n",
              "\n",
              "  <style>\n",
              "    .colab-df-container {\n",
              "      display:flex;\n",
              "      gap: 12px;\n",
              "    }\n",
              "\n",
              "    .colab-df-convert {\n",
              "      background-color: #E8F0FE;\n",
              "      border: none;\n",
              "      border-radius: 50%;\n",
              "      cursor: pointer;\n",
              "      display: none;\n",
              "      fill: #1967D2;\n",
              "      height: 32px;\n",
              "      padding: 0 0 0 0;\n",
              "      width: 32px;\n",
              "    }\n",
              "\n",
              "    .colab-df-convert:hover {\n",
              "      background-color: #E2EBFA;\n",
              "      box-shadow: 0px 1px 2px rgba(60, 64, 67, 0.3), 0px 1px 3px 1px rgba(60, 64, 67, 0.15);\n",
              "      fill: #174EA6;\n",
              "    }\n",
              "\n",
              "    .colab-df-buttons div {\n",
              "      margin-bottom: 4px;\n",
              "    }\n",
              "\n",
              "    [theme=dark] .colab-df-convert {\n",
              "      background-color: #3B4455;\n",
              "      fill: #D2E3FC;\n",
              "    }\n",
              "\n",
              "    [theme=dark] .colab-df-convert:hover {\n",
              "      background-color: #434B5C;\n",
              "      box-shadow: 0px 1px 3px 1px rgba(0, 0, 0, 0.15);\n",
              "      filter: drop-shadow(0px 1px 2px rgba(0, 0, 0, 0.3));\n",
              "      fill: #FFFFFF;\n",
              "    }\n",
              "  </style>\n",
              "\n",
              "    <script>\n",
              "      const buttonEl =\n",
              "        document.querySelector('#df-8dbdee73-7304-4de7-a5d3-a7ad183f8b2a button.colab-df-convert');\n",
              "      buttonEl.style.display =\n",
              "        google.colab.kernel.accessAllowed ? 'block' : 'none';\n",
              "\n",
              "      async function convertToInteractive(key) {\n",
              "        const element = document.querySelector('#df-8dbdee73-7304-4de7-a5d3-a7ad183f8b2a');\n",
              "        const dataTable =\n",
              "          await google.colab.kernel.invokeFunction('convertToInteractive',\n",
              "                                                    [key], {});\n",
              "        if (!dataTable) return;\n",
              "\n",
              "        const docLinkHtml = 'Like what you see? Visit the ' +\n",
              "          '<a target=\"_blank\" href=https://colab.research.google.com/notebooks/data_table.ipynb>data table notebook</a>'\n",
              "          + ' to learn more about interactive tables.';\n",
              "        element.innerHTML = '';\n",
              "        dataTable['output_type'] = 'display_data';\n",
              "        await google.colab.output.renderOutput(dataTable, element);\n",
              "        const docLink = document.createElement('div');\n",
              "        docLink.innerHTML = docLinkHtml;\n",
              "        element.appendChild(docLink);\n",
              "      }\n",
              "    </script>\n",
              "  </div>\n",
              "\n",
              "\n",
              "    </div>\n",
              "  </div>\n"
            ],
            "application/vnd.google.colaboratory.intrinsic+json": {
              "type": "dataframe",
              "summary": "{\n  \"name\": \"missing_data_summary[missing_data_summary['Missing Values'] > MISSING_THRESHOLD]\",\n  \"rows\": 1,\n  \"fields\": [\n    {\n      \"column\": \"Missing Values\",\n      \"properties\": {\n        \"dtype\": \"number\",\n        \"std\": null,\n        \"min\": 8000,\n        \"max\": 8000,\n        \"num_unique_values\": 1,\n        \"samples\": [\n          8000\n        ],\n        \"semantic_type\": \"\",\n        \"description\": \"\"\n      }\n    },\n    {\n      \"column\": \"Present Values\",\n      \"properties\": {\n        \"dtype\": \"number\",\n        \"std\": null,\n        \"min\": 0,\n        \"max\": 0,\n        \"num_unique_values\": 1,\n        \"samples\": [\n          0\n        ],\n        \"semantic_type\": \"\",\n        \"description\": \"\"\n      }\n    },\n    {\n      \"column\": \"Missing Percent\",\n      \"properties\": {\n        \"dtype\": \"number\",\n        \"std\": null,\n        \"min\": 100.0,\n        \"max\": 100.0,\n        \"num_unique_values\": 1,\n        \"samples\": [\n          100.0\n        ],\n        \"semantic_type\": \"\",\n        \"description\": \"\"\n      }\n    }\n  ]\n}"
            }
          },
          "metadata": {},
          "execution_count": 257
        }
      ]
    },
    {
      "cell_type": "code",
      "execution_count": 258,
      "metadata": {
        "id": "FUGU9D6ex242"
      },
      "outputs": [],
      "source": [
        "# Drop ehail_fee\n",
        "df = df.drop(columns=['ehail_fee'], axis=1)"
      ]
    },
    {
      "cell_type": "code",
      "execution_count": 259,
      "metadata": {
        "id": "mc3Kz4AAx243"
      },
      "outputs": [],
      "source": [
        "# Drop payment_type diluar 1, 2\n",
        "df = df[df['payment_type'].isin([1, 2])]"
      ]
    },
    {
      "cell_type": "markdown",
      "source": [
        "# 🛠️ Feature Engineering"
      ],
      "metadata": {
        "id": "AukIvEvjDN_1"
      }
    },
    {
      "cell_type": "markdown",
      "source": [
        "## 📍 Encoding"
      ],
      "metadata": {
        "id": "JiGe1V3ODPE1"
      }
    },
    {
      "cell_type": "code",
      "execution_count": 260,
      "metadata": {
        "id": "ndYVMVppx243"
      },
      "outputs": [],
      "source": [
        "# Encoding store_and_fwd_flag\n",
        "label_encoder = LabelEncoder()\n",
        "\n",
        "df[\"store_and_fwd_flag\"] = label_encoder.fit_transform(df[\"store_and_fwd_flag\"])"
      ]
    },
    {
      "cell_type": "code",
      "execution_count": 261,
      "metadata": {
        "id": "wf8B49x8x244"
      },
      "outputs": [],
      "source": [
        "# Convert datetime\n",
        "df['pickup_datetime'] = pd.to_datetime(df['lpep_pickup_datetime'])\n",
        "df['dropoff_datetime'] = pd.to_datetime(df['lpep_dropoff_datetime'])"
      ]
    },
    {
      "cell_type": "code",
      "execution_count": 262,
      "metadata": {
        "id": "JgCdbpXgx244"
      },
      "outputs": [],
      "source": [
        "# Extract time-based features\n",
        "df['pickup_hour'] = df['pickup_datetime'].dt.hour\n",
        "df['pickup_day'] = df['pickup_datetime'].dt.dayofweek\n",
        "df['pickup_month'] = df['pickup_datetime'].dt.month\n",
        "df['dropoff_hour'] = df['dropoff_datetime'].dt.hour\n",
        "df['dropoff_day'] = df['dropoff_datetime'].dt.dayofweek\n",
        "df['dropoff_month'] = df['dropoff_datetime'].dt.month"
      ]
    },
    {
      "cell_type": "code",
      "execution_count": 263,
      "metadata": {
        "id": "kKzWCf4gx244"
      },
      "outputs": [],
      "source": [
        "# Create trip_duration column\n",
        "df['trip_duration'] = (df['dropoff_datetime'] - df['pickup_datetime']).dt.total_seconds() / 60"
      ]
    },
    {
      "cell_type": "code",
      "execution_count": 264,
      "metadata": {
        "id": "4DGRPGKSx244"
      },
      "outputs": [],
      "source": [
        "def encode_cyclical(df, feature, max_val):\n",
        "    df[f'{feature}_sin'] = np.sin(2 * np.pi * df_regression[feature] / max_val)\n",
        "    df[f'{feature}_cos'] = np.cos(2 * np.pi * df_regression[feature] / max_val)"
      ]
    },
    {
      "cell_type": "code",
      "execution_count": 265,
      "metadata": {
        "id": "KUXYlYiRx244",
        "colab": {
          "base_uri": "https://localhost:8080/",
          "height": 547
        },
        "outputId": "1cd43665-3605-4c70-95a7-97af7cbc44a7"
      },
      "outputs": [
        {
          "output_type": "error",
          "ename": "KeyError",
          "evalue": "'pickup_hour'",
          "traceback": [
            "\u001b[0;31m---------------------------------------------------------------------------\u001b[0m",
            "\u001b[0;31mKeyError\u001b[0m                                  Traceback (most recent call last)",
            "\u001b[0;32m/usr/local/lib/python3.10/dist-packages/pandas/core/indexes/base.py\u001b[0m in \u001b[0;36mget_loc\u001b[0;34m(self, key)\u001b[0m\n\u001b[1;32m   3804\u001b[0m         \u001b[0;32mtry\u001b[0m\u001b[0;34m:\u001b[0m\u001b[0;34m\u001b[0m\u001b[0;34m\u001b[0m\u001b[0m\n\u001b[0;32m-> 3805\u001b[0;31m             \u001b[0;32mreturn\u001b[0m \u001b[0mself\u001b[0m\u001b[0;34m.\u001b[0m\u001b[0m_engine\u001b[0m\u001b[0;34m.\u001b[0m\u001b[0mget_loc\u001b[0m\u001b[0;34m(\u001b[0m\u001b[0mcasted_key\u001b[0m\u001b[0;34m)\u001b[0m\u001b[0;34m\u001b[0m\u001b[0;34m\u001b[0m\u001b[0m\n\u001b[0m\u001b[1;32m   3806\u001b[0m         \u001b[0;32mexcept\u001b[0m \u001b[0mKeyError\u001b[0m \u001b[0;32mas\u001b[0m \u001b[0merr\u001b[0m\u001b[0;34m:\u001b[0m\u001b[0;34m\u001b[0m\u001b[0;34m\u001b[0m\u001b[0m\n",
            "\u001b[0;32mindex.pyx\u001b[0m in \u001b[0;36mpandas._libs.index.IndexEngine.get_loc\u001b[0;34m()\u001b[0m\n",
            "\u001b[0;32mindex.pyx\u001b[0m in \u001b[0;36mpandas._libs.index.IndexEngine.get_loc\u001b[0;34m()\u001b[0m\n",
            "\u001b[0;32mpandas/_libs/hashtable_class_helper.pxi\u001b[0m in \u001b[0;36mpandas._libs.hashtable.PyObjectHashTable.get_item\u001b[0;34m()\u001b[0m\n",
            "\u001b[0;32mpandas/_libs/hashtable_class_helper.pxi\u001b[0m in \u001b[0;36mpandas._libs.hashtable.PyObjectHashTable.get_item\u001b[0;34m()\u001b[0m\n",
            "\u001b[0;31mKeyError\u001b[0m: 'pickup_hour'",
            "\nThe above exception was the direct cause of the following exception:\n",
            "\u001b[0;31mKeyError\u001b[0m                                  Traceback (most recent call last)",
            "\u001b[0;32m<ipython-input-265-d7b738f87173>\u001b[0m in \u001b[0;36m<cell line: 2>\u001b[0;34m()\u001b[0m\n\u001b[1;32m      1\u001b[0m \u001b[0;31m# Cyclinical encoding hour and month\u001b[0m\u001b[0;34m\u001b[0m\u001b[0;34m\u001b[0m\u001b[0m\n\u001b[0;32m----> 2\u001b[0;31m \u001b[0mencode_cyclical\u001b[0m\u001b[0;34m(\u001b[0m\u001b[0mdf\u001b[0m\u001b[0;34m,\u001b[0m \u001b[0;34m'pickup_hour'\u001b[0m\u001b[0;34m,\u001b[0m \u001b[0;36m24\u001b[0m\u001b[0;34m)\u001b[0m\u001b[0;34m\u001b[0m\u001b[0;34m\u001b[0m\u001b[0m\n\u001b[0m\u001b[1;32m      3\u001b[0m \u001b[0mencode_cyclical\u001b[0m\u001b[0;34m(\u001b[0m\u001b[0mdf\u001b[0m\u001b[0;34m,\u001b[0m \u001b[0;34m'dropoff_hour'\u001b[0m\u001b[0;34m,\u001b[0m \u001b[0;36m24\u001b[0m\u001b[0;34m)\u001b[0m\u001b[0;34m\u001b[0m\u001b[0;34m\u001b[0m\u001b[0m\n\u001b[1;32m      4\u001b[0m \u001b[0mencode_cyclical\u001b[0m\u001b[0;34m(\u001b[0m\u001b[0mdf\u001b[0m\u001b[0;34m,\u001b[0m \u001b[0;34m'pickup_month'\u001b[0m\u001b[0;34m,\u001b[0m \u001b[0;36m12\u001b[0m\u001b[0;34m)\u001b[0m\u001b[0;34m\u001b[0m\u001b[0;34m\u001b[0m\u001b[0m\n\u001b[1;32m      5\u001b[0m \u001b[0mencode_cyclical\u001b[0m\u001b[0;34m(\u001b[0m\u001b[0mdf\u001b[0m\u001b[0;34m,\u001b[0m \u001b[0;34m'dropoff_month'\u001b[0m\u001b[0;34m,\u001b[0m \u001b[0;36m12\u001b[0m\u001b[0;34m)\u001b[0m\u001b[0;34m\u001b[0m\u001b[0;34m\u001b[0m\u001b[0m\n",
            "\u001b[0;32m<ipython-input-264-9d82be06e83c>\u001b[0m in \u001b[0;36mencode_cyclical\u001b[0;34m(df, feature, max_val)\u001b[0m\n\u001b[1;32m      1\u001b[0m \u001b[0;32mdef\u001b[0m \u001b[0mencode_cyclical\u001b[0m\u001b[0;34m(\u001b[0m\u001b[0mdf\u001b[0m\u001b[0;34m,\u001b[0m \u001b[0mfeature\u001b[0m\u001b[0;34m,\u001b[0m \u001b[0mmax_val\u001b[0m\u001b[0;34m)\u001b[0m\u001b[0;34m:\u001b[0m\u001b[0;34m\u001b[0m\u001b[0;34m\u001b[0m\u001b[0m\n\u001b[0;32m----> 2\u001b[0;31m     \u001b[0mdf\u001b[0m\u001b[0;34m[\u001b[0m\u001b[0;34mf'{feature}_sin'\u001b[0m\u001b[0;34m]\u001b[0m \u001b[0;34m=\u001b[0m \u001b[0mnp\u001b[0m\u001b[0;34m.\u001b[0m\u001b[0msin\u001b[0m\u001b[0;34m(\u001b[0m\u001b[0;36m2\u001b[0m \u001b[0;34m*\u001b[0m \u001b[0mnp\u001b[0m\u001b[0;34m.\u001b[0m\u001b[0mpi\u001b[0m \u001b[0;34m*\u001b[0m \u001b[0mdf_regression\u001b[0m\u001b[0;34m[\u001b[0m\u001b[0mfeature\u001b[0m\u001b[0;34m]\u001b[0m \u001b[0;34m/\u001b[0m \u001b[0mmax_val\u001b[0m\u001b[0;34m)\u001b[0m\u001b[0;34m\u001b[0m\u001b[0;34m\u001b[0m\u001b[0m\n\u001b[0m\u001b[1;32m      3\u001b[0m     \u001b[0mdf\u001b[0m\u001b[0;34m[\u001b[0m\u001b[0;34mf'{feature}_cos'\u001b[0m\u001b[0;34m]\u001b[0m \u001b[0;34m=\u001b[0m \u001b[0mnp\u001b[0m\u001b[0;34m.\u001b[0m\u001b[0mcos\u001b[0m\u001b[0;34m(\u001b[0m\u001b[0;36m2\u001b[0m \u001b[0;34m*\u001b[0m \u001b[0mnp\u001b[0m\u001b[0;34m.\u001b[0m\u001b[0mpi\u001b[0m \u001b[0;34m*\u001b[0m \u001b[0mdf_regression\u001b[0m\u001b[0;34m[\u001b[0m\u001b[0mfeature\u001b[0m\u001b[0;34m]\u001b[0m \u001b[0;34m/\u001b[0m \u001b[0mmax_val\u001b[0m\u001b[0;34m)\u001b[0m\u001b[0;34m\u001b[0m\u001b[0;34m\u001b[0m\u001b[0m\n",
            "\u001b[0;32m/usr/local/lib/python3.10/dist-packages/pandas/core/frame.py\u001b[0m in \u001b[0;36m__getitem__\u001b[0;34m(self, key)\u001b[0m\n\u001b[1;32m   4100\u001b[0m             \u001b[0;32mif\u001b[0m \u001b[0mself\u001b[0m\u001b[0;34m.\u001b[0m\u001b[0mcolumns\u001b[0m\u001b[0;34m.\u001b[0m\u001b[0mnlevels\u001b[0m \u001b[0;34m>\u001b[0m \u001b[0;36m1\u001b[0m\u001b[0;34m:\u001b[0m\u001b[0;34m\u001b[0m\u001b[0;34m\u001b[0m\u001b[0m\n\u001b[1;32m   4101\u001b[0m                 \u001b[0;32mreturn\u001b[0m \u001b[0mself\u001b[0m\u001b[0;34m.\u001b[0m\u001b[0m_getitem_multilevel\u001b[0m\u001b[0;34m(\u001b[0m\u001b[0mkey\u001b[0m\u001b[0;34m)\u001b[0m\u001b[0;34m\u001b[0m\u001b[0;34m\u001b[0m\u001b[0m\n\u001b[0;32m-> 4102\u001b[0;31m             \u001b[0mindexer\u001b[0m \u001b[0;34m=\u001b[0m \u001b[0mself\u001b[0m\u001b[0;34m.\u001b[0m\u001b[0mcolumns\u001b[0m\u001b[0;34m.\u001b[0m\u001b[0mget_loc\u001b[0m\u001b[0;34m(\u001b[0m\u001b[0mkey\u001b[0m\u001b[0;34m)\u001b[0m\u001b[0;34m\u001b[0m\u001b[0;34m\u001b[0m\u001b[0m\n\u001b[0m\u001b[1;32m   4103\u001b[0m             \u001b[0;32mif\u001b[0m \u001b[0mis_integer\u001b[0m\u001b[0;34m(\u001b[0m\u001b[0mindexer\u001b[0m\u001b[0;34m)\u001b[0m\u001b[0;34m:\u001b[0m\u001b[0;34m\u001b[0m\u001b[0;34m\u001b[0m\u001b[0m\n\u001b[1;32m   4104\u001b[0m                 \u001b[0mindexer\u001b[0m \u001b[0;34m=\u001b[0m \u001b[0;34m[\u001b[0m\u001b[0mindexer\u001b[0m\u001b[0;34m]\u001b[0m\u001b[0;34m\u001b[0m\u001b[0;34m\u001b[0m\u001b[0m\n",
            "\u001b[0;32m/usr/local/lib/python3.10/dist-packages/pandas/core/indexes/base.py\u001b[0m in \u001b[0;36mget_loc\u001b[0;34m(self, key)\u001b[0m\n\u001b[1;32m   3810\u001b[0m             ):\n\u001b[1;32m   3811\u001b[0m                 \u001b[0;32mraise\u001b[0m \u001b[0mInvalidIndexError\u001b[0m\u001b[0;34m(\u001b[0m\u001b[0mkey\u001b[0m\u001b[0;34m)\u001b[0m\u001b[0;34m\u001b[0m\u001b[0;34m\u001b[0m\u001b[0m\n\u001b[0;32m-> 3812\u001b[0;31m             \u001b[0;32mraise\u001b[0m \u001b[0mKeyError\u001b[0m\u001b[0;34m(\u001b[0m\u001b[0mkey\u001b[0m\u001b[0;34m)\u001b[0m \u001b[0;32mfrom\u001b[0m \u001b[0merr\u001b[0m\u001b[0;34m\u001b[0m\u001b[0;34m\u001b[0m\u001b[0m\n\u001b[0m\u001b[1;32m   3813\u001b[0m         \u001b[0;32mexcept\u001b[0m \u001b[0mTypeError\u001b[0m\u001b[0;34m:\u001b[0m\u001b[0;34m\u001b[0m\u001b[0;34m\u001b[0m\u001b[0m\n\u001b[1;32m   3814\u001b[0m             \u001b[0;31m# If we have a listlike key, _check_indexing_error will raise\u001b[0m\u001b[0;34m\u001b[0m\u001b[0;34m\u001b[0m\u001b[0m\n",
            "\u001b[0;31mKeyError\u001b[0m: 'pickup_hour'"
          ]
        }
      ],
      "source": [
        "# Cyclinical encoding hour and month\n",
        "encode_cyclical(df, 'pickup_hour', 24)\n",
        "encode_cyclical(df, 'dropoff_hour', 24)\n",
        "encode_cyclical(df, 'pickup_month', 12)\n",
        "encode_cyclical(df, 'dropoff_month', 12)"
      ]
    },
    {
      "cell_type": "code",
      "execution_count": null,
      "metadata": {
        "id": "c4iFFufax245"
      },
      "outputs": [],
      "source": [
        "# Drop unnecessary columns\n",
        "df = df.drop(columns=['pickup_hour', 'pickup_month', 'dropoff_hour', 'dropoff_month', 'lpep_pickup_datetime', 'lpep_dropoff_datetime', 'pickup_datetime', 'dropoff_datetime'], axis=1)"
      ]
    },
    {
      "cell_type": "code",
      "execution_count": null,
      "metadata": {
        "id": "Y539lJPhx245"
      },
      "outputs": [],
      "source": [
        "df.head()"
      ]
    },
    {
      "cell_type": "code",
      "execution_count": null,
      "metadata": {
        "id": "vvS-wUUtx245"
      },
      "outputs": [],
      "source": [
        "# One Hot Encoding Day\n",
        "pickup_day_one_hot = pd.get_dummies(df['pickup_day'], prefix='pickup_day', drop_first=True).astype(int)\n",
        "dropoff_day_one_hot = pd.get_dummies(df['dropoff_day'], prefix='dropoff_day', drop_first=True).astype(int)"
      ]
    },
    {
      "cell_type": "code",
      "execution_count": null,
      "metadata": {
        "id": "9D8auFBvx245"
      },
      "outputs": [],
      "source": [
        "df = pd.concat([df, pickup_day_one_hot, dropoff_day_one_hot], axis=1)"
      ]
    },
    {
      "cell_type": "code",
      "execution_count": null,
      "metadata": {
        "id": "Ua8XSWH_x245"
      },
      "outputs": [],
      "source": [
        "# Drop unnecessary columns\n",
        "df = df.drop(columns=['pickup_day', 'dropoff_day'], axis=1)"
      ]
    },
    {
      "cell_type": "code",
      "execution_count": null,
      "metadata": {
        "id": "TLN0Gazzx245"
      },
      "outputs": [],
      "source": [
        "df.head()"
      ]
    },
    {
      "cell_type": "markdown",
      "source": [
        "# 🛠️ Regresi"
      ],
      "metadata": {
        "id": "2HdM_v1sD6tT"
      }
    },
    {
      "cell_type": "markdown",
      "source": [
        "## 📍 Training"
      ],
      "metadata": {
        "id": "TmZvqtvxEBPq"
      }
    },
    {
      "cell_type": "code",
      "source": [
        "df_regression = df.copy()"
      ],
      "metadata": {
        "id": "35NVN6wOEDBI"
      },
      "execution_count": null,
      "outputs": []
    },
    {
      "cell_type": "code",
      "source": [
        "# Drop kolom ID\n",
        "df_regression = df_regression.drop(columns=\"ID\")"
      ],
      "metadata": {
        "id": "kFUbjKg9EF00"
      },
      "execution_count": null,
      "outputs": []
    },
    {
      "cell_type": "code",
      "source": [
        "# Identify categorical features\n",
        "categorical_cols = ['VendorID', 'store_and_fwd_flag', 'RatecodeID', 'PULocationID', 'DOLocationID', 'trip_type', 'payment_type']"
      ],
      "metadata": {
        "id": "bhKO_if8FM4g"
      },
      "execution_count": null,
      "outputs": []
    },
    {
      "cell_type": "code",
      "source": [
        "# Convert categorical columns to 'category' dtype\n",
        "for col in categorical_cols:\n",
        "    df[col] = df[col].astype('category')"
      ],
      "metadata": {
        "id": "QmCfH8jWFQ46"
      },
      "execution_count": null,
      "outputs": []
    },
    {
      "cell_type": "code",
      "execution_count": null,
      "metadata": {
        "id": "EmANbdHxx245"
      },
      "outputs": [],
      "source": [
        "# Pembagian fitur & target\n",
        "X = df_regression.drop(columns='trip_distance', axis=1)\n",
        "y = df_regression['trip_distance']"
      ]
    },
    {
      "cell_type": "code",
      "source": [
        "# Identify the indices of categorical features\n",
        "cat_indices = [X.columns.get_loc(col) for col in categorical_cols]"
      ],
      "metadata": {
        "id": "iSMwzNaBFSu-"
      },
      "execution_count": null,
      "outputs": []
    },
    {
      "cell_type": "code",
      "execution_count": null,
      "metadata": {
        "id": "hO9_yk-Gx245"
      },
      "outputs": [],
      "source": [
        "# Train and test split\n",
        "X_train, X_test, y_train, y_test = train_test_split(X, y, test_size=0.2, random_state=42)"
      ]
    },
    {
      "cell_type": "code",
      "execution_count": null,
      "metadata": {
        "id": "56iueQIIx245"
      },
      "outputs": [],
      "source": [
        "# Define parameter grid\n",
        "param_grid = {\n",
        "    'learning_rate': [0.01, 0.05, 0.1],\n",
        "    'iterations': [100, 200, 300, 500],\n",
        "    'depth': [5, 7, 9],\n",
        "    'subsample': [1.0],\n",
        "    'colsample_bylevel': [1.0],\n",
        "    'min_data_in_leaf': [10, 20, 50],\n",
        "    'l2_leaf_reg': [0.1, 0.2, 0.3],\n",
        "    'random_strength': [0, 0.1, 0.2],\n",
        "    'grow_policy': ['SymmetricTree', 'Depthwise', 'Lossguide'],\n",
        "    'leaf_estimation_iterations': [1, 5, 10],\n",
        "    'border_count': [32, 64, 128]\n",
        "}\n",
        "\n",
        "# Initialize CatBoostRegressor\n",
        "model = CatBoostRegressor(\n",
        "    loss_function='RMSE',\n",
        "    verbose=0,\n",
        "    od_wait=20,\n",
        "    od_pval=0.01,\n",
        "    use_best_model=True,\n",
        "    task_type='CPU'\n",
        ")\n",
        "\n",
        "# Initialize RandomizedSearchCV\n",
        "random_search = RandomizedSearchCV(\n",
        "    estimator=model,\n",
        "    param_distributions=param_grid,\n",
        "    n_iter=100,\n",
        "    scoring='r2',\n",
        "    cv=3,\n",
        "    verbose=1,\n",
        "    n_jobs=-1,\n",
        "    random_state=42\n",
        ")"
      ]
    },
    {
      "cell_type": "code",
      "execution_count": null,
      "metadata": {
        "id": "dEnn87Vzx245"
      },
      "outputs": [],
      "source": [
        "random_search.fit(X_train, y_train)\n"
      ]
    },
    {
      "cell_type": "code",
      "execution_count": null,
      "metadata": {
        "id": "-tPSbmf5x246"
      },
      "outputs": [],
      "source": [
        "best_params = random_search.best_params_\n",
        "print(best_params)\n",
        "\n",
        "best_model = random_search.best_estimator_\n",
        "print(best_model)"
      ]
    },
    {
      "cell_type": "code",
      "execution_count": null,
      "metadata": {
        "id": "vcdp-dhjx246"
      },
      "outputs": [],
      "source": [
        "y_pred = best_model.predict(X_test)\n",
        "\n",
        "mae = mean_absolute_error(y_test, y_pred)\n",
        "mse = mean_squared_error(y_test, y_pred)\n",
        "rmse = np.sqrt(mse)\n",
        "r2 = r2_score(y_test, y_pred)\n",
        "\n",
        "print(f'Mean Absolute Error: {mae:.2f}')\n",
        "print(f'Mean Squared Error: {mse:.2f}')\n",
        "print(f'Root Mean Squared Error: {rmse:.2f}')\n",
        "print(f'R-squared: {r2:.2f}')"
      ]
    },
    {
      "cell_type": "markdown",
      "source": [
        "## 📍 Kaggle"
      ],
      "metadata": {
        "id": "hspjLWu7FalE"
      }
    },
    {
      "cell_type": "code",
      "execution_count": null,
      "metadata": {
        "id": "pHTwHUVgx246"
      },
      "outputs": [],
      "source": [
        "url = \"https://drive.google.com/uc?id=192s2gBVRe7_5kTDkoIRM6Tls7SPNsnvf\"\n",
        "df_kaggle_regression = pd.read_csv(url)"
      ]
    },
    {
      "cell_type": "code",
      "execution_count": null,
      "metadata": {
        "id": "dIkJaPgRx246"
      },
      "outputs": [],
      "source": [
        "df_kaggle_regression.head()"
      ]
    },
    {
      "cell_type": "code",
      "execution_count": null,
      "metadata": {
        "id": "f5_QmqIgx246"
      },
      "outputs": [],
      "source": [
        "df_kaggle_regression = df_kaggle_regression.drop(columns=['Unnamed: 0', 'ehail_fee'])"
      ]
    },
    {
      "cell_type": "code",
      "execution_count": null,
      "metadata": {
        "id": "YFDWUEMjx246"
      },
      "outputs": [],
      "source": [
        "df_kaggle_regression.info()"
      ]
    },
    {
      "cell_type": "code",
      "execution_count": null,
      "metadata": {
        "id": "lQhqmzUCx246"
      },
      "outputs": [],
      "source": [
        "processed_df_kaggle_regression = df_kaggle_regression.copy()"
      ]
    },
    {
      "cell_type": "code",
      "execution_count": null,
      "metadata": {
        "id": "2OiuEzGox246"
      },
      "outputs": [],
      "source": [
        "processed_df_kaggle_regression[\"store_and_fwd_flag\"] = label_encoder.transform(processed_df_kaggle_regression[\"store_and_fwd_flag\"])"
      ]
    },
    {
      "cell_type": "code",
      "execution_count": null,
      "metadata": {
        "id": "xkItamG1x246"
      },
      "outputs": [],
      "source": [
        "processed_df_kaggle_regression"
      ]
    },
    {
      "cell_type": "code",
      "execution_count": null,
      "metadata": {
        "id": "hnAeykPUx246"
      },
      "outputs": [],
      "source": [
        "processed_df_kaggle_regression['pickup_datetime'] = pd.to_datetime(processed_df_kaggle_regression['lpep_pickup_datetime'])\n",
        "processed_df_kaggle_regression['dropoff_datetime'] = pd.to_datetime(processed_df_kaggle_regression['lpep_dropoff_datetime'])"
      ]
    },
    {
      "cell_type": "code",
      "execution_count": null,
      "metadata": {
        "id": "Mltm8oATx246"
      },
      "outputs": [],
      "source": [
        "processed_df_kaggle_regression['pickup_hour'] = processed_df_kaggle_regression['pickup_datetime'].dt.hour\n",
        "processed_df_kaggle_regression['pickup_day'] = processed_df_kaggle_regression['pickup_datetime'].dt.dayofweek\n",
        "processed_df_kaggle_regression['pickup_month'] = processed_df_kaggle_regression['pickup_datetime'].dt.month\n",
        "processed_df_kaggle_regression['dropoff_hour'] = processed_df_kaggle_regression['dropoff_datetime'].dt.hour\n",
        "processed_df_kaggle_regression['dropoff_day'] = processed_df_kaggle_regression['dropoff_datetime'].dt.dayofweek\n",
        "processed_df_kaggle_regression['dropoff_month'] = processed_df_kaggle_regression['dropoff_datetime'].dt.month\n"
      ]
    },
    {
      "cell_type": "code",
      "execution_count": null,
      "metadata": {
        "id": "TWnoTIXcx247"
      },
      "outputs": [],
      "source": [
        "processed_df_kaggle_regression['trip_duration'] = (processed_df_kaggle_regression['dropoff_datetime'] - processed_df_kaggle_regression['pickup_datetime']).dt.total_seconds() / 60"
      ]
    },
    {
      "cell_type": "code",
      "execution_count": null,
      "metadata": {
        "id": "NwGgqtYzx247"
      },
      "outputs": [],
      "source": [
        "def encode_test_cyclical(feature, max_val):\n",
        "    processed_df_kaggle_regression[f'{feature}_sin'] = np.sin(2 * np.pi * processed_df_kaggle_regression[feature] / max_val)\n",
        "    processed_df_kaggle_regression[f'{feature}_cos'] = np.cos(2 * np.pi * processed_df_kaggle_regression[feature] / max_val)"
      ]
    },
    {
      "cell_type": "code",
      "execution_count": null,
      "metadata": {
        "id": "y3y7hHqCx247"
      },
      "outputs": [],
      "source": [
        "encode_test_cyclical('pickup_hour', 24)\n",
        "encode_test_cyclical('dropoff_hour', 24)\n",
        "encode_test_cyclical('pickup_month', 12)\n",
        "encode_test_cyclical('dropoff_month', 12)"
      ]
    },
    {
      "cell_type": "code",
      "execution_count": null,
      "metadata": {
        "id": "cLY8mIJKx247"
      },
      "outputs": [],
      "source": [
        "processed_df_kaggle_regression = processed_df_kaggle_regression.drop(columns=['pickup_hour', 'pickup_month', 'dropoff_hour', 'dropoff_month', 'lpep_pickup_datetime', 'lpep_dropoff_datetime', 'pickup_datetime', 'dropoff_datetime'], axis=1)"
      ]
    },
    {
      "cell_type": "code",
      "execution_count": null,
      "metadata": {
        "id": "cdgCj63vx247"
      },
      "outputs": [],
      "source": [
        "test_pickup_day_one_hot = pd.get_dummies(processed_df_kaggle_regression['pickup_day'], prefix='pickup_day', drop_first=True).astype(int)\n",
        "test_dropoff_day_one_hot = pd.get_dummies(processed_df_kaggle_regression['dropoff_day'], prefix='dropoff_day', drop_first=True).astype(int)"
      ]
    },
    {
      "cell_type": "code",
      "execution_count": null,
      "metadata": {
        "id": "0l9Bd1dbx247"
      },
      "outputs": [],
      "source": [
        "processed_df_kaggle_regression = pd.concat([processed_df_kaggle_regression, test_pickup_day_one_hot, test_dropoff_day_one_hot], axis=1)"
      ]
    },
    {
      "cell_type": "code",
      "execution_count": null,
      "metadata": {
        "id": "VKxwnmaMx247"
      },
      "outputs": [],
      "source": [
        "processed_df_kaggle_regression = processed_df_kaggle_regression.drop(columns=['pickup_day', 'dropoff_day'], axis=1)"
      ]
    },
    {
      "cell_type": "code",
      "execution_count": null,
      "metadata": {
        "id": "f16faTnQx247"
      },
      "outputs": [],
      "source": [
        "processed_df_kaggle_regression.head()"
      ]
    },
    {
      "cell_type": "code",
      "execution_count": null,
      "metadata": {
        "id": "MtoP1HwHx247"
      },
      "outputs": [],
      "source": [
        "processed_df_kaggle_regression = processed_df_kaggle_regression.drop(columns=\"ID\")"
      ]
    },
    {
      "cell_type": "code",
      "execution_count": null,
      "metadata": {
        "id": "p9BTEtgKx247"
      },
      "outputs": [],
      "source": [
        "y_result = best_model.predict(processed_df_kaggle_regression)"
      ]
    },
    {
      "cell_type": "code",
      "execution_count": null,
      "metadata": {
        "id": "UGr1dX6Cx247"
      },
      "outputs": [],
      "source": [
        "csv_result = pd.DataFrame({\n",
        "    \"ID\": df_train_regression[\"ID\"],\n",
        "    \"trip_distance\": y_result\n",
        "})"
      ]
    },
    {
      "cell_type": "code",
      "execution_count": null,
      "metadata": {
        "id": "73kXDnwXx248"
      },
      "outputs": [],
      "source": [
        "csv_result"
      ]
    },
    {
      "cell_type": "code",
      "execution_count": null,
      "metadata": {
        "id": "OZpy74Qgx248"
      },
      "outputs": [],
      "source": [
        "from datetime import datetime\n",
        "from zoneinfo import ZoneInfo\n",
        "\n",
        "utc_plus_7 = ZoneInfo(\"Asia/Bangkok\")\n",
        "current_iso_timestamp = datetime.now(utc_plus_7).isoformat()\n",
        "\n",
        "filename = f\"submission_kasdead_{current_iso_timestamp}.csv\"\n",
        "csv_result.to_csv(filename, index=False)"
      ]
    }
  ],
  "metadata": {
    "kernelspec": {
      "display_name": "Python 3",
      "name": "python3"
    },
    "language_info": {
      "codemirror_mode": {
        "name": "ipython",
        "version": 3
      },
      "file_extension": ".py",
      "mimetype": "text/x-python",
      "name": "python",
      "nbconvert_exporter": "python",
      "pygments_lexer": "ipython3",
      "version": "3.11.7"
    },
    "colab": {
      "provenance": [],
      "toc_visible": true,
      "gpuType": "T4"
    },
    "accelerator": "GPU"
  },
  "nbformat": 4,
  "nbformat_minor": 0
}